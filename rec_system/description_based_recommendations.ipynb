{
 "cells": [
  {
   "cell_type": "code",
   "execution_count": 22,
   "metadata": {},
   "outputs": [],
   "source": [
    "import pandas as pd"
   ]
  },
  {
   "cell_type": "markdown",
   "metadata": {},
   "source": [
    "## Dataset\n",
    "Dataset available from [kaggle](https://www.kaggle.com/carrie1/ecommerce-data)\n",
    "* download the zipped file and copy unzipped file to data folder and rename file to 'ecommerce.csv'\n",
    "* detect the ecoding using `file -I`. You may need to change the encoding to read the file but `ISO-8859-1` should work"
   ]
  },
  {
   "cell_type": "code",
   "execution_count": 31,
   "metadata": {},
   "outputs": [],
   "source": [
    "df = pd.read_csv('./data/ecommerce.csv', encoding=\"ISO-8859-1\", engine='python')"
   ]
  },
  {
   "cell_type": "code",
   "execution_count": 32,
   "metadata": {},
   "outputs": [
    {
     "data": {
      "text/html": [
       "<div>\n",
       "<style scoped>\n",
       "    .dataframe tbody tr th:only-of-type {\n",
       "        vertical-align: middle;\n",
       "    }\n",
       "\n",
       "    .dataframe tbody tr th {\n",
       "        vertical-align: top;\n",
       "    }\n",
       "\n",
       "    .dataframe thead th {\n",
       "        text-align: right;\n",
       "    }\n",
       "</style>\n",
       "<table border=\"1\" class=\"dataframe\">\n",
       "  <thead>\n",
       "    <tr style=\"text-align: right;\">\n",
       "      <th></th>\n",
       "      <th>InvoiceNo</th>\n",
       "      <th>StockCode</th>\n",
       "      <th>Description</th>\n",
       "      <th>Quantity</th>\n",
       "      <th>InvoiceDate</th>\n",
       "      <th>UnitPrice</th>\n",
       "      <th>CustomerID</th>\n",
       "      <th>Country</th>\n",
       "    </tr>\n",
       "  </thead>\n",
       "  <tbody>\n",
       "    <tr>\n",
       "      <th>0</th>\n",
       "      <td>536365</td>\n",
       "      <td>85123A</td>\n",
       "      <td>WHITE HANGING HEART T-LIGHT HOLDER</td>\n",
       "      <td>6</td>\n",
       "      <td>12/1/2010 8:26</td>\n",
       "      <td>2.55</td>\n",
       "      <td>17850.0</td>\n",
       "      <td>United Kingdom</td>\n",
       "    </tr>\n",
       "    <tr>\n",
       "      <th>1</th>\n",
       "      <td>536365</td>\n",
       "      <td>71053</td>\n",
       "      <td>WHITE METAL LANTERN</td>\n",
       "      <td>6</td>\n",
       "      <td>12/1/2010 8:26</td>\n",
       "      <td>3.39</td>\n",
       "      <td>17850.0</td>\n",
       "      <td>United Kingdom</td>\n",
       "    </tr>\n",
       "    <tr>\n",
       "      <th>2</th>\n",
       "      <td>536365</td>\n",
       "      <td>84406B</td>\n",
       "      <td>CREAM CUPID HEARTS COAT HANGER</td>\n",
       "      <td>8</td>\n",
       "      <td>12/1/2010 8:26</td>\n",
       "      <td>2.75</td>\n",
       "      <td>17850.0</td>\n",
       "      <td>United Kingdom</td>\n",
       "    </tr>\n",
       "    <tr>\n",
       "      <th>3</th>\n",
       "      <td>536365</td>\n",
       "      <td>84029G</td>\n",
       "      <td>KNITTED UNION FLAG HOT WATER BOTTLE</td>\n",
       "      <td>6</td>\n",
       "      <td>12/1/2010 8:26</td>\n",
       "      <td>3.39</td>\n",
       "      <td>17850.0</td>\n",
       "      <td>United Kingdom</td>\n",
       "    </tr>\n",
       "    <tr>\n",
       "      <th>4</th>\n",
       "      <td>536365</td>\n",
       "      <td>84029E</td>\n",
       "      <td>RED WOOLLY HOTTIE WHITE HEART.</td>\n",
       "      <td>6</td>\n",
       "      <td>12/1/2010 8:26</td>\n",
       "      <td>3.39</td>\n",
       "      <td>17850.0</td>\n",
       "      <td>United Kingdom</td>\n",
       "    </tr>\n",
       "  </tbody>\n",
       "</table>\n",
       "</div>"
      ],
      "text/plain": [
       "  InvoiceNo StockCode                          Description  Quantity  \\\n",
       "0    536365    85123A   WHITE HANGING HEART T-LIGHT HOLDER         6   \n",
       "1    536365     71053                  WHITE METAL LANTERN         6   \n",
       "2    536365    84406B       CREAM CUPID HEARTS COAT HANGER         8   \n",
       "3    536365    84029G  KNITTED UNION FLAG HOT WATER BOTTLE         6   \n",
       "4    536365    84029E       RED WOOLLY HOTTIE WHITE HEART.         6   \n",
       "\n",
       "      InvoiceDate  UnitPrice  CustomerID         Country  \n",
       "0  12/1/2010 8:26       2.55     17850.0  United Kingdom  \n",
       "1  12/1/2010 8:26       3.39     17850.0  United Kingdom  \n",
       "2  12/1/2010 8:26       2.75     17850.0  United Kingdom  \n",
       "3  12/1/2010 8:26       3.39     17850.0  United Kingdom  \n",
       "4  12/1/2010 8:26       3.39     17850.0  United Kingdom  "
      ]
     },
     "execution_count": 32,
     "metadata": {},
     "output_type": "execute_result"
    }
   ],
   "source": [
    "df.head()"
   ]
  },
  {
   "cell_type": "code",
   "execution_count": 36,
   "metadata": {},
   "outputs": [
    {
     "data": {
      "text/plain": [
       "['Description']"
      ]
     },
     "execution_count": 36,
     "metadata": {},
     "output_type": "execute_result"
    }
   ],
   "source": [
    "list(df.columns)"
   ]
  },
  {
   "cell_type": "code",
   "execution_count": 35,
   "metadata": {},
   "outputs": [
    {
     "data": {
      "text/html": [
       "<div>\n",
       "<style scoped>\n",
       "    .dataframe tbody tr th:only-of-type {\n",
       "        vertical-align: middle;\n",
       "    }\n",
       "\n",
       "    .dataframe tbody tr th {\n",
       "        vertical-align: top;\n",
       "    }\n",
       "\n",
       "    .dataframe thead th {\n",
       "        text-align: right;\n",
       "    }\n",
       "</style>\n",
       "<table border=\"1\" class=\"dataframe\">\n",
       "  <thead>\n",
       "    <tr style=\"text-align: right;\">\n",
       "      <th></th>\n",
       "      <th>Description</th>\n",
       "    </tr>\n",
       "  </thead>\n",
       "  <tbody>\n",
       "    <tr>\n",
       "      <th>0</th>\n",
       "      <td>WHITE HANGING HEART T-LIGHT HOLDER</td>\n",
       "    </tr>\n",
       "    <tr>\n",
       "      <th>1</th>\n",
       "      <td>WHITE METAL LANTERN</td>\n",
       "    </tr>\n",
       "    <tr>\n",
       "      <th>2</th>\n",
       "      <td>CREAM CUPID HEARTS COAT HANGER</td>\n",
       "    </tr>\n",
       "    <tr>\n",
       "      <th>3</th>\n",
       "      <td>KNITTED UNION FLAG HOT WATER BOTTLE</td>\n",
       "    </tr>\n",
       "    <tr>\n",
       "      <th>4</th>\n",
       "      <td>RED WOOLLY HOTTIE WHITE HEART.</td>\n",
       "    </tr>\n",
       "  </tbody>\n",
       "</table>\n",
       "</div>"
      ],
      "text/plain": [
       "                           Description\n",
       "0   WHITE HANGING HEART T-LIGHT HOLDER\n",
       "1                  WHITE METAL LANTERN\n",
       "2       CREAM CUPID HEARTS COAT HANGER\n",
       "3  KNITTED UNION FLAG HOT WATER BOTTLE\n",
       "4       RED WOOLLY HOTTIE WHITE HEART."
      ]
     },
     "execution_count": 35,
     "metadata": {},
     "output_type": "execute_result"
    }
   ],
   "source": [
    "#drop non descriptive fields\n",
    "df = df.drop(['InvoiceNo', 'StockCode', 'Quantity', 'InvoiceDate', 'UnitPrice', 'CustomerID', 'Country'], axis=1)\n",
    "df.head()"
   ]
  },
  {
   "cell_type": "code",
   "execution_count": 41,
   "metadata": {},
   "outputs": [
    {
     "name": "stdout",
     "output_type": "stream",
     "text": [
      "<class 'pandas.core.frame.DataFrame'>\n",
      "RangeIndex: 541909 entries, 0 to 541908\n",
      "Data columns (total 1 columns):\n",
      " #   Column       Non-Null Count   Dtype \n",
      "---  ------       --------------   ----- \n",
      " 0   Description  540455 non-null  object\n",
      "dtypes: object(1)\n",
      "memory usage: 4.1+ MB\n"
     ]
    }
   ],
   "source": [
    "df.info()"
   ]
  },
  {
   "cell_type": "code",
   "execution_count": 42,
   "metadata": {},
   "outputs": [
    {
     "data": {
      "text/html": [
       "<div>\n",
       "<style scoped>\n",
       "    .dataframe tbody tr th:only-of-type {\n",
       "        vertical-align: middle;\n",
       "    }\n",
       "\n",
       "    .dataframe tbody tr th {\n",
       "        vertical-align: top;\n",
       "    }\n",
       "\n",
       "    .dataframe thead th {\n",
       "        text-align: right;\n",
       "    }\n",
       "</style>\n",
       "<table border=\"1\" class=\"dataframe\">\n",
       "  <thead>\n",
       "    <tr style=\"text-align: right;\">\n",
       "      <th></th>\n",
       "      <th>Description</th>\n",
       "    </tr>\n",
       "  </thead>\n",
       "  <tbody>\n",
       "    <tr>\n",
       "      <th>count</th>\n",
       "      <td>540455</td>\n",
       "    </tr>\n",
       "    <tr>\n",
       "      <th>unique</th>\n",
       "      <td>4223</td>\n",
       "    </tr>\n",
       "    <tr>\n",
       "      <th>top</th>\n",
       "      <td>WHITE HANGING HEART T-LIGHT HOLDER</td>\n",
       "    </tr>\n",
       "    <tr>\n",
       "      <th>freq</th>\n",
       "      <td>2369</td>\n",
       "    </tr>\n",
       "  </tbody>\n",
       "</table>\n",
       "</div>"
      ],
      "text/plain": [
       "                               Description\n",
       "count                               540455\n",
       "unique                                4223\n",
       "top     WHITE HANGING HEART T-LIGHT HOLDER\n",
       "freq                                  2369"
      ]
     },
     "execution_count": 42,
     "metadata": {},
     "output_type": "execute_result"
    }
   ],
   "source": [
    "df.describe()"
   ]
  },
  {
   "cell_type": "code",
   "execution_count": 44,
   "metadata": {},
   "outputs": [
    {
     "data": {
      "text/plain": [
       "Description    object\n",
       "dtype: object"
      ]
     },
     "execution_count": 44,
     "metadata": {},
     "output_type": "execute_result"
    }
   ],
   "source": [
    "df.dtypes"
   ]
  },
  {
   "cell_type": "markdown",
   "metadata": {},
   "source": [
    "## Preprocess\n",
    "\n",
    "* drop unnecessary columns\n",
    "* convert to lower case\n",
    "* remove stop words\n",
    "* lemmetize \n",
    "* remove non-unicode charaters"
   ]
  },
  {
   "cell_type": "code",
   "execution_count": 37,
   "metadata": {},
   "outputs": [],
   "source": [
    "import nltk\n",
    "from nltk.corpus import stopwords\n",
    "from nltk.stem import WordNetLemmatizer\n",
    "from nltk import word_tokenize\n",
    "from unidecode import unidecode\n",
    "import string"
   ]
  },
  {
   "cell_type": "code",
   "execution_count": 38,
   "metadata": {},
   "outputs": [],
   "source": [
    "STOP_WORDS = stopwords.words('english') + list(string.punctuation)\n",
    "lemmetizr = WordNetLemmatizer()\n",
    "\n",
    "def pre_process(text:str):\n",
    "    text = text.lower()\n",
    "    text = unidecode(text)\n",
    "    text = word_tokenize(text)\n",
    "    text = [word for word in text if word not in STOP_WORDS]\n",
    "    for index, word in enumerate(text):\n",
    "        text[index] = lemmetizr.lemmatize(word)\n",
    "        \n",
    "    return \" \".join(text)\n",
    "    "
   ]
  },
  {
   "cell_type": "code",
   "execution_count": 39,
   "metadata": {},
   "outputs": [
    {
     "name": "stdout",
     "output_type": "stream",
     "text": [
      "nino runner love shoe trail\n"
     ]
    }
   ],
   "source": [
    "print(pre_process(\"I am a ñino. I am a runner and I love and my shoes and trails\"))"
   ]
  },
  {
   "cell_type": "code",
   "execution_count": 45,
   "metadata": {},
   "outputs": [],
   "source": [
    "# Description is read as an object, read it as type string before applying preprocessing\n",
    "df['Description'] = df['Description'].astype('str').apply(pre_process)"
   ]
  },
  {
   "cell_type": "code",
   "execution_count": 46,
   "metadata": {},
   "outputs": [
    {
     "data": {
      "text/html": [
       "<div>\n",
       "<style scoped>\n",
       "    .dataframe tbody tr th:only-of-type {\n",
       "        vertical-align: middle;\n",
       "    }\n",
       "\n",
       "    .dataframe tbody tr th {\n",
       "        vertical-align: top;\n",
       "    }\n",
       "\n",
       "    .dataframe thead th {\n",
       "        text-align: right;\n",
       "    }\n",
       "</style>\n",
       "<table border=\"1\" class=\"dataframe\">\n",
       "  <thead>\n",
       "    <tr style=\"text-align: right;\">\n",
       "      <th></th>\n",
       "      <th>Description</th>\n",
       "    </tr>\n",
       "  </thead>\n",
       "  <tbody>\n",
       "    <tr>\n",
       "      <th>0</th>\n",
       "      <td>white hanging heart t-light holder</td>\n",
       "    </tr>\n",
       "    <tr>\n",
       "      <th>1</th>\n",
       "      <td>white metal lantern</td>\n",
       "    </tr>\n",
       "    <tr>\n",
       "      <th>2</th>\n",
       "      <td>cream cupid heart coat hanger</td>\n",
       "    </tr>\n",
       "    <tr>\n",
       "      <th>3</th>\n",
       "      <td>knitted union flag hot water bottle</td>\n",
       "    </tr>\n",
       "    <tr>\n",
       "      <th>4</th>\n",
       "      <td>red woolly hottie white heart</td>\n",
       "    </tr>\n",
       "  </tbody>\n",
       "</table>\n",
       "</div>"
      ],
      "text/plain": [
       "                           Description\n",
       "0   white hanging heart t-light holder\n",
       "1                  white metal lantern\n",
       "2        cream cupid heart coat hanger\n",
       "3  knitted union flag hot water bottle\n",
       "4        red woolly hottie white heart"
      ]
     },
     "execution_count": 46,
     "metadata": {},
     "output_type": "execute_result"
    }
   ],
   "source": [
    "df.head()"
   ]
  },
  {
   "cell_type": "markdown",
   "metadata": {},
   "source": [
    "## Feature extraction\n",
    "\n",
    "Both TF-IDF and CountVectorizer will be used to generate word embeddings"
   ]
  },
  {
   "cell_type": "code",
   "execution_count": 69,
   "metadata": {},
   "outputs": [],
   "source": [
    "from sklearn.feature_extraction.text import TfidfVectorizer\n",
    "\n",
    "tfidf_vectorizer = TfidfVectorizer()\n",
    "\n",
    "tfidf_description = tfidf_vectorizer.fit_transform((df['Description']))"
   ]
  },
  {
   "cell_type": "code",
   "execution_count": 70,
   "metadata": {},
   "outputs": [
    {
     "data": {
      "text/plain": [
       "<541909x2032 sparse matrix of type '<class 'numpy.float64'>'\n",
       "\twith 2199400 stored elements in Compressed Sparse Row format>"
      ]
     },
     "execution_count": 70,
     "metadata": {},
     "output_type": "execute_result"
    }
   ],
   "source": [
    "tfidf_description"
   ]
  },
  {
   "cell_type": "code",
   "execution_count": 52,
   "metadata": {},
   "outputs": [
    {
     "name": "stdout",
     "output_type": "stream",
     "text": [
      "['00', '10', '11', '12', '120cm', '125g', '15', '15c', '15cm', '16', '16954', '16955', '16956', '16957', '16960', '16961', '16963', '16965', '16x16cm', '17058', '17059', '17065', '17067', '17068', '17070', '17071', '17074', '17076', '17077', '17080', '17081', '17084', '17086', '17087', '17089', '17090', '17093', '17095', '17096', '17097', '17099', '17100', '17104', '17107', '17112', '17116', '17211', '17214', '17216', '17217', '17218', '17219', '17220', '17259', '17262', '1800', '18pc', '20', '200', '2010', '20713', '20light', '21', '22467', '22719', '22804', '23', '23343', '24', '250g', '25w', '25x24x12cm', '30', '30cm', '30cmx30cm', '34x20cm', '35', '36', '3d', '40', '40cm', '40x40cm', '42', '45cm', '45x30cm', '45x45cm', '47', '50', '500g', '50cm', '5g', '60', '60cm', '60x40cm', '65cmx65cm', '6pc', '70', '72', '75', '78', '84930', '85123a', '8m', 'a4', 'a5', 'a6', 'a7', 'abc', 'abstract', 'acapulco', 'account', 'acrylic', 'add', 'address', 'ade', 'adjust', 'adjustment', 'adult', 'advent', 'afghan', 'aged', 'ahoy', 'aid', 'air', 'airline', 'airmail', 'alan', 'alarm', 'album', 'all', 'allium', 'allocate', 'alphabet', 'alpine', 'aluminium', 'amazon', 'amber', 'amelie', 'amethyst', 'anemone', 'angel', 'animal', 'ant', 'antique', 'antoienett', 'antoinette', 'aperitif', 'apothecary', 'apple', 'apron', 'aqua', 'area', 'army', 'arouzer', 'art', 'articulated', 'artificial', 'artiifcial', 'as', 'ashtray', 'aside', 'asos', 'assorted', 'asst', 'asstd', 'away', 'azure', 'babushka', 'baby', 'back', 'backpack', 'bad', 'badge', 'bag', 'bain', 'bake', 'bakelike', 'baker', 'baking', 'ball', 'balloon', 'balm', 'bamboo', 'band', 'bangle', 'bank', 'banner', 'banquet', 'bar', 'barcode', 'barn', 'baroque', 'baroquecandlestick', 'barrel', 'barrier', 'base', 'baseball', 'basil', 'basin', 'basket', 'bath', 'bathroom', 'battery', 'bauble', 'bazaar', 'bea', 'beach', 'bead', 'beaded', 'beads', 'beak', 'beaker', 'bear', 'beaten', 'beautiful', 'beauty', 'bed', 'bedroom', 'bedside', 'bee', 'beetle', 'bell', 'belle', 'bendy', 'berry', 'bertie', 'best', 'beurre', 'beware', 'bib', 'bicycle', 'big', 'bili', 'bill', 'billboard', 'bin', 'bingo', 'bird', 'birdcage', 'birdhouse', 'birdie', 'birdy', 'birthday', 'biscuit', 'bitty', 'black', 'blackblue', 'blackboard', 'blackchristmas', 'blank', 'bling', 'blk', 'block', 'blond', 'blood', 'blossom', 'blue', 'blueberry', 'board', 'bobble', 'bohemian', 'bomb', 'bon', 'bonbon', 'bone', 'bonheur', 'bonne', 'book', 'bookcover', 'boom', 'boombox', 'boot', 'booze', 'botanical', 'botanique', 'bottle', 'boudicca', 'boudoir', 'bouquet', 'bow', 'bowl', 'box', 'boxed', 'boy', 'bracelet', 'braclet', 'branch', 'brass', 'bread', 'breakage', 'breakfast', 'briar', 'bridge', 'bright', 'brocade', 'brocante', 'broken', 'bronze', 'brooch', 'brown', 'brush', 'bubble', 'bubblegum', 'bucket', 'budah', 'buddha', 'buffalo', 'building', 'bulb', 'bull', 'bullet', 'bum', 'bundle', 'bunny', 'bunting', 'burgundy', 'burner', 'burst', 'bus', 'busy', 'butter', 'butterfiles', 'butterfl', 'butterfly', 'button', 'c550456', 'ca', 'cab', 'cabin', 'cabinet', 'cactus', 'caddy', 'cadet', 'cafe', 'cage', 'cake', 'cakestand', 'calculator', 'calendar', 'calm', 'camden', 'came', 'camembert', 'camo', 'camouflage', 'campagne', 'camper', 'camphor', 'camping', 'canary', 'cand', 'candelabra', 'candl', 'candle', 'candleholder', 'candlepot', 'candlestand', 'candlestick', 'candy', 'candystuft', 'cannabis', 'cannister', 'cant', 'canvas', 'cap', 'capiz', 'car', 'caravan', 'card', 'cardholder', 'cargo', 'carlo', 'carnival', 'carousel', 'carpet', 'carriage', 'carrier', 'carrot', 'carry', 'carton', 'cartoon', 'case', 'cash', 'cast', 'cat', 'catch', 'cd', 'ceature', 'celebration', 'century', 'ceramic', 'chain', 'chains', 'chair', 'chalet', 'chalice', 'chalk', 'chalkboard', 'chambre', 'champagne', 'champion', 'chandelier', 'chandler', 'char', 'charge', 'charger', 'charlie', 'charlotte', 'charm', 'chart', 'chasing', 'chateau', 'check', 'cheerful', 'cheese', 'chenille', 'cherry', 'cherub', 'chest', 'chic', 'chick', 'chicken', 'chicks', 'child', 'childhood', 'childrens', 'chilli', 'chime', 'china', 'chinese', 'chive', 'choc', 'chocolate', 'chocolatecandle', 'choice', 'choir', 'choker', 'chopping', 'chopstick', 'christmas', 'chrome', 'chrysanthemum', 'chunky', 'cigar', 'cinammon', 'cinderella', 'cinnamon', 'circle', 'circular', 'circus', 'citronella', 'citrus', 'claire', 'clam', 'class', 'classic', 'classical', 'clay', 'clean', 'clear', 'climbing', 'clip', 'cloche', 'clock', 'closed', 'cloth', 'clothes', 'cluster', 'coal', 'coaster', 'coat', 'coathanger', 'cockerel', 'cockle', 'cocktail', 'coconut', 'code', 'coded', 'coffee', 'col', 'colander', 'collage', 'collar', 'colour', 'coloured', 'colourful', 'colouring', 'columbian', 'com', 'comb', 'combo', 'come', 'commission', 'compact', 'computer', 'condiment', 'cone', 'coney', 'confectionery', 'confetti', 'confusing', 'congratulation', 'container', 'cook', 'cookie', 'cooking', 'copper', 'cordial', 'cordon', 'corer', 'cornice', 'corona', 'cosmetic', 'cosy', 'cote', 'cottage', 'cotton', 'counted', 'country', 'covent', 'cover', 'cowboy', 'cracked', 'cracker', 'crackle', 'craft', 'crate', 'crawlie', 'crawlies', 'crayon', 'crazy', 'cream', 'creature', 'credit', 'credited', 'credits', 'creditted', 'creepy', 'crested', 'crochet', 'crome', 'croquet', 'cross', 'crossbones', 'crown', 'cruk', 'crushed', 'crusoe', 'crystal', 'ctn', 'cube', 'cubic', 'cup', 'cupboard', 'cupcake', 'cupid', 'curio', 'curious', 'curtain', 'cushion', 'cut', 'cute', 'cutglass', 'cutlery', 'cutter', 'czech', 'dad', 'dagamed', 'dairy', 'daisy', 'damage', 'damaged', 'damages', 'danish', 'dark', 'david', 'day', 'de', 'debt', 'dec', 'deck', 'deco', 'decoration', 'decorative', 'decoupage', 'decrotivevintage', 'delight', 'delivery', 'delphinium', 'deluxe', 'demi', 'denim', 'design', 'desk', 'destroyed', 'dia', 'diamante', 'diamon', 'diamond', 'diet', 'difference', 'digestive', 'digitalis', 'diner', 'dinky', 'dinner', 'dinosaur', 'disc', 'disco', 'discount', 'dish', 'dispenser', 'display', 'disposable', 'diva', 'doc', 'doctor', 'dog', 'doggy', 'doiley', 'doily', 'doll', 'dollcraft', 'dolly', 'dolphin', 'domino', 'donkey', 'door', 'doorbell', 'doorknob', 'doormat', 'doorsign', 'doorstop', 'dot', 'dotcom', 'dotcomgiftshop', 'dotcomstock', 'double', 'doughnut', 'dove', 'dovecote', 'dr', 'dragon', 'dragonfly', 'draw', 'drawer', 'drawerknob', 'drawing', 'drawstring', 'dream', 'dress', 'dressing', 'drink', 'drop', 'droplet', 'du', 'duck', 'dusty', 'dutch', 'ear', 'earring', 'earth', 'easter', 'eau', 'ebay', 'economy', 'edge', 'edwardian', 'egg', 'eight', 'electronic', 'elegant', 'elephant', 'elixir', 'elvis', 'embossed', 'embroidered', 'embroidery', 'emergency', 'emily', 'empire', 'en', 'enamel', 'enchanted', 'enfants', 'engine', 'england', 'english', 'engraved', 'entry', 'envelope', 'eraser', 'error', 'essential', 'etc', 'etched', 'eucalyptus', 'evening', 'ever', 'exercise', 'expandable', 'extremely', 'eye', 'fabric', 'face', 'faceted', 'fair', 'fairy', 'family', 'fan', 'fancy', 'fanny', 'farm', 'farmyard', 'farthing', 'fashion', 'faulty', 'fauna', 'faux', 'favourite', 'fawn', 'fba', 'feather', 'fee', 'feeder', 'feeding', 'felt', 'feltcraft', 'feng', 'fern', 'field', 'figure', 'filigree', 'filigris', 'filler', 'find', 'fine', 'finger', 'finish', 'fire', 'first', 'fishing', 'five', 'fix', 'fixed', 'flag', 'flame', 'flamingo', 'flannel', 'flask', 'flock', 'floor', 'flora', 'floral', 'flore', 'flowe', 'flower', 'flowerpot', 'flowerpower', 'flowers', 'flowr', 'flu', 'fluffy', 'fluted', 'fly', 'flying', 'flytrap', 'fob', 'foil', 'folding', 'folk', 'folkart', 'fondant', 'font', 'food', 'foot', 'football', 'footprint', 'forest', 'fork', 'forked', 'forty', 'found', 'four', 'foxglove', 'foxy', 'fragrance', 'frame', 'france', 'frangipani', 'frappucino', 'freestyle', 'french', 'fresh', 'freshwater', 'fridge', 'friend', 'friendship', 'frieze', 'frill', 'fringe', 'frog', 'front', 'frost', 'frosted', 'fruit', 'fruitbowl', 'frutti', 'frying', 'full', 'fun', 'funk', 'funky', 'funny', 'fur', 'fuschia', 'game', 'gaoler', 'garage', 'garden', 'gardener', 'gardenia', 'garland', 'garld', 'gauze', 'gazebo', 'gebra', 'gecko', 'geisha', 'gel', 'gem', 'gemstone', 'gent', 'gentleman', 'geometric', 'george', 'georgian', 'gerden', 'ghost', 'giant', 'gift', 'gin', 'gingerbread', 'gingham', 'giraffe', 'girl', 'girly', 'given', 'glamorous', 'glamour', 'glass', 'glaze', 'glider', 'glitter', 'globe', 'gloss', 'glove', 'glow', 'glowing', 'gnome', 'go', 'goblet', 'gold', 'goldfish', 'goldie', 'goose', 'gordon', 'grand', 'graphic', 'grass', 'green', 'greeting', 'grey', 'grinder', 'grip', 'grocery', 'groovy', 'grow', 'growing', 'guard', 'guitar', 'gum', 'gumball', 'gun', 'gymkhana', 'gymkhanna', 'hair', 'hairband', 'hairbands', 'hairclip', 'hairclips', 'hairslide', 'hall', 'halloween', 'hammered', 'hammock', 'hamper', 'hand', 'handbag', 'handle', 'hanger', 'hanging', 'happy', 'hardman', 'hare', 'harmonica', 'hat', 'hate', 'hawaiian', 'haynes', 'head', 'headphone', 'heart', 'heat', 'heaven', 'heidi', 'height', 'helga', 'helicopter', 'hello', 'hen', 'henrietta', 'hens', 'herb', 'hexagon', 'hi', 'hibiscus', 'high', 'highlighter', 'hilda', 'hill', 'hippy', 'historic', 'hldr', 'hodge', 'hohoho', 'hold', 'holder', 'hole', 'holiday', 'holly', 'home', 'homemade', 'honeycomb', 'hood', 'hook', 'hoop', 'hopper', 'horse', 'hostess', 'hot', 'hottie', 'hour', 'house', 'housekeeping', 'housework', 'hse', 'hunt', 'hurricane', 'hut', 'hyacinth', 'hydranga', 'hydrangea', 'ice', 'icicle', 'icon', 'illustrated', 'image', 'imported', 'incense', 'incorr', 'incorrect', 'incorrectly', 'indian', 'inflatable', 'ingrid', 'instrument', 'invc', 'invite', 'ipod', 'iron', 'ironing', 'island', 'ivory', 'ivy', 'jack', 'jackie', 'jade', 'jam', 'jampot', 'jar', 'jardin', 'jardiniere', 'jasmine', 'jazz', 'jean', 'jelly', 'jet', 'jewel', 'jeweled', 'jewelled', 'jewellery', 'jigsaw', 'jingle', 'john', 'journal', 'joy', 'jubilee', 'jug', 'juicy', 'jumbo', 'jungle', 'junk', 'kashmir', 'kashmiri', 'keep', 'keepsake', 'kensington', 'key', 'keyring', 'keyrings', 'kid', 'king', 'kit', 'kitchen', 'kitten', 'kitty', 'knack', 'kneeling', 'knick', 'knickerbockerglory', 'knif', 'knitted', 'knitting', 'knob', 'kraft', 'kukui', 'la', 'label', 'lace', 'lad', 'ladder', 'ladle', 'lady', 'ladybird', 'lamp', 'lampshade', 'landmark', 'lantern', 'laquered', 'large', 'lariat', 'laser', 'lattice', 'laundry', 'laurel', 'lavender', 'lazer', 'le', 'leaf', 'leap', 'leave', 'led', 'leg', 'lei', 'lens', 'let', 'letter', 'level', 'lewis', 'licence', 'licorice', 'lid', 'life', 'light', 'lightbulb', 'lighthouse', 'lights', 'lilac', 'lily', 'lime', 'line', 'linen', 'liner', 'lip', 'lipstick', 'list', 'little', 'livingroom', 'lizard', 'loaf', 'lobster', 'local', 'lola', 'lolita', 'lolly', 'london', 'long', 'longboard', 'looking', 'lost', 'lounge', 'love', 'lovebird', 'loveheart', 'lovely', 'lt', 'lucky', 'ludo', 'luggage', 'lunch', 'lush', 'mac', 'made', 'madeline', 'madonna', 'madras', 'magazine', 'magic', 'magical', 'magnet', 'magnetic', 'maid', 'mail', 'mailout', 'make', 'maker', 'making', 'mamage', 'man', 'manual', 'mao', 'marble', 'maria', 'marie', 'mark', 'marked', 'marker', 'market', 'marmalade', 'marshmallow', 'masala', 'mat', 'match', 'maxwell', 'meadow', 'measure', 'measuring', 'med', 'medicine', 'medina', 'medium', 'melamine', 'memo', 'memoboard', 'memory', 'men', 'merchant', 'merry', 'message', 'metal', 'metalic', 'meter', 'metre', 'mexican', 'mia', 'michel', 'microwave', 'mid', 'midnight', 'milk', 'milkmaid', 'milkshake', 'mini', 'miniature', 'minicards', 'miniture', 'mint', 'miror', 'mirror', 'mirrored', 'miseltoe', 'missing', 'mistletoe', 'mitt', 'mitten', 'mix', 'mixed', 'mixing', 'mixture', 'mobile', 'mock', 'mod', 'modelling', 'modern', 'molly', 'money', 'monkey', 'monochrome', 'monsoon', 'monster', 'montan', 'montana', 'monte', 'moody', 'moon', 'mop', 'moroccan', 'morris', 'mosaic', 'mother', 'motorbike', 'motoring', 'mould', 'mouldy', 'mouse', 'mousey', 'mr', 'mrked', 'muff', 'mug', 'multi', 'multicol', 'multicolour', 'mum', 'mummy', 'murano', 'mushroom', 'musical', 'mystery', 'n0', 'namaste', 'nan', 'nancy', 'napkin', 'nat', 'nativity', 'natural', 'nature', 'naught', 'naughty', 'neckl', 'neckl36', 'necklac', 'necklace', 'needle', 'neighbourhood', 'nest', 'nesting', 'netting', 'new', 'newspaper', 'next', 'nicole', 'night', 'nightlight', 'nil', 'nile', 'nine', 'ninja', 'noel', 'nose', 'note', 'notebook', 'notelets', 'notepad', 'notting', 'novelty', 'number', 'nurse', 'nursery', 'nut', 'occupied', 'ocean', 'octagon', 'of4', 'office', 'oil', 'ol', 'old', 'olive', 'olivia', 'ollie', 'one', 'online', 'ooh', 'oops', 'opal', 'open', 'opener', 'operated', 'opium', 'opulent', 'orange', 'orbit', 'order', 'organdy', 'organiser', 'oriental', 'origami', 'ornament', 'oval', 'oven', 'overcrowded', 'overnight', 'owl', 'oxford', 'oyster', 'pack', 'packing', 'pad', 'padded', 'page', 'paint', 'painted', 'pair', 'paisely', 'paisley', 'pale', 'pallet', 'palmiera', 'pan', 'pancake', 'panda', 'panel', 'panettone', 'pannetone', 'pant', 'pantry', 'paper', 'paperweight', 'parade', 'parasol', 'parcel', 'paris', 'parisienne', 'park', 'parlour', 'parsley', 'partition', 'party', 'passport', 'pastel', 'pastry', 'patch', 'patchwork', 'path', 'patrolled', 'pattern', 'paul', 'pc', 'peace', 'peach', 'peacock', 'pear', 'pearl', 'pearlised', 'pebble', 'pedestal', 'peg', 'pen', 'pencil', 'pendant', 'pennant', 'penny', 'peony', 'pepper', 'perfect', 'perfectly', 'perfume', 'peridot', 'periwinkle', 'person', 'personal', 'pet', 'petal', 'petit', 'pharmacie', 'phone', 'photo', 'photoframe', 'pick', 'picnic', 'picture', 'piece', 'pig', 'piggy', 'pill', 'pillar', 'pin', 'pinecone', 'ping', 'pink', 'pinkwhite', 'pirate', 'pistachio', 'pizza', 'place', 'placemat', 'placemats', 'planet', 'plant', 'planter', 'plaque', 'plasmatronic', 'plaster', 'plastic', 'plate', 'platter', 'play', 'playhouse', 'playing', 'playtime', 'please', 'pocket', 'poinsettia', 'point', 'pointed', 'pointy', 'pole', 'polished', 'political', 'polka', 'polkadot', 'polkadots', 'polyester', 'pom', 'pompom', 'poncho', 'pony', 'poodle', 'pool', 'poorly', 'pop', 'popart', 'popcorn', 'poppy', 'popsicle', 'porcelain', 'portable', 'portobello', 'portrait', 'possible', 'post', 'postage', 'postcard', 'poste', 'poster', 'posy', 'pot', 'potion', 'pottering', 'potting', 'pouffe', 'pouri', 'present', 'pretty', 'previous', 'prince', 'princess', 'print', 'printed', 'printing', 'problem', 'provencal', 'provence', 'ps10', 'ps100', 'ps20', 'ps30', 'ps40', 'ps50', 'psychedelic', 'pudding', 'pump', 'pumpkin', 'punch', 'puncture', 'puppet', 'puppy', 'purdey', 'purple', 'purse', 'push', 'put', 'puzzle', 'quartz', 'queen', 'quick', 'quilt', 'quilted', 'rabbit', 'rachel', 'racing', 'rack', 'radio', 'raffia', 'rain', 'rainbow', 'rainy', 'rake', 'raspberr', 'raspberry', 'rasta', 'rattle', 'rcvd', 're', 'ream', 'rebecca', 'recipe', 'record', 'rect', 'rectangle', 'rectangular', 'recycled', 'recycling', 'red', 'reel', 'refectory', 'regal', 'regatta', 'regency', 'reindeer', 'relax', 'repair', 'resin', 'resolution', 'respectable', 'rest', 'ret', 'retail', 'reto', 'retro', 'retrospot', 'returned', 'reverse', 'revolutionary', 'revolver', 'rex', 'rib', 'ribbed', 'ribbon', 'ridge', 'ridged', 'riding', 'rim', 'ring', 'riviera', 'rnd', 'robin', 'robot', 'roccoco', 'rocket', 'rocking', 'rococo', 'roll', 'rolling', 'roman', 'romantic', 'room', 'rope', 'rose', 'rosebud', 'rosemary', 'rosette', 'rosie', 'rotating', 'rotator', 'round', 'rounder', 'rubber', 'ruby', 'rucksack', 'rudolphs', 'ruler', 'run', 'russel', 'russian', 'rustic', 'rusty', 'sack', 'safety', 'saftey', 'sage', 'sailor', 'salad', 'sale', 'salle', 'sally', 'salt', 'sample', 'samples', 'sand', 'sandalwood', 'sandcastle', 'sandlewood', 'sandwich', 'sanskrit', 'santa', 'saucer', 'savannah', 'save', 'savoy', 'scale', 'scallop', 'scandinavian', 'scandispot', 'scarf', 'scent', 'scented', 'school', 'scissor', 'scottie', 'scotty', 'scrap', 'screen', 'screwdriver', 'scroll', 'scrubbing', 'sculpted', 'se', 'sea', 'seafood', 'seaside', 'season', 'seat', 'secateurs', 'secret', 'section', 'see', 'seed', 'sell', 'sequin', 'served', 'set', 'set3', 'setting', 'seventeen', 'sew', 'sewing', 'sex', 'shade', 'shaggy', 'shape', 'shaped', 'shark', 'sharpener', 'shed', 'sheep', 'sheet', 'shelf', 'shell', 'shelving', 'shimmering', 'shine', 'shirt', 'shoe', 'shop', 'shopper', 'shopping', 'shoulder', 'show', 'shower', 'showroom', 'shui', 'shutter', 'sideboard', 'sign', 'sil', 'silicon', 'silk', 'silouette', 'silver', 'singing', 'single', 'sister', 'sit', 'sitting', 'six', 'size', 'sketchbook', 'skipping', 'skippping', 'skirt', 'skittle', 'skull', 'sky', 'slate', 'sleeping', 'sleigh', 'slice', 'slide', 'slipper', 'small', 'smallfolkart', 'smashed', 'smiley', 'smokey', 'smudges', 'snack', 'snake', 'snap', 'snow', 'snowdrop', 'snowflake', 'snowman', 'snowstorm', 'snowy', 'soap', 'sock', 'soft', 'sold', 'soldier', 'sombrero', 'song', 'songbird', 'sophie', 'sound', 'sow', 'space', 'spaceball', 'spaceboy', 'spaceman', 'spade', 'sparkly', 'spatula', 'speaker', 'sphere', 'spice', 'spike', 'spinning', 'spiral', 'spirit', 'spliff', 'splodge', 'sponge', 'spoon', 'sporting', 'spot', 'spotted', 'spotty', 'sprig', 'spring', 'squ', 'square', 'squarecushion', 'squeezer', 'st', 'stack', 'stacking', 'stamp', 'stamped', 'stand', 'standing', 'star', 'starfish', 'start', 'station', 'stationery', 'steel', 'stencil', 'stick', 'sticker', 'sticky', 'stiletto', 'stitched', 'sto', 'stock', 'stocking', 'stone', 'stool', 'stop', 'stopmetal', 'stopper', 'storage', 'str', 'strainer', 'strand', 'strap', 'straw', 'strawberry', 'strawbery', 'strawbry', 'street', 'stress', 'string', 'stripe', 'stripey', 'stripy', 'strongman', 'stud', 'studded', 'stuff', 'style', 'suck', 'sucker', 'suction', 'sud', 'suede', 'sugar', 'suki', 'summer', 'sundae', 'sunflower', 'sunglass', 'sunjar', 'sunrise', 'sunset', 'supply', 'support', 'susan', 'susie', 'swagat', 'swallow', 'swat', 'sweeet', 'sweet', 'sweetheart', 'sweetie', 'swinging', 'swirlglass', 'swirly', 'swiss', 'sword', 'sympathy', 'ta', 'table', 'tablecloth', 'tag', 'tahiti', 'taig', 'tail', 'take', 'tale', 'tall', 'tape', 'taper', 'tassel', 'tassle', 'tattoo', 'tea', 'teacup', 'teal', 'tealight', 'teapot', 'teaspoon', 'teatime', 'tec', 'teddy', 'temp', 'test', 'thank', 'thermometer', 'three', 'througha', 'throw', 'thrown', 'thyme', 'tiara', 'tick', 'ticket', 'tidy', 'tie', 'tier', 'tigris', 'tile', 'tiled', 'time', 'tin', 'tinsel', 'tiny', 'tissue', 'tit', 'toadstool', 'toast', 'toastrack', 'toffee', 'toilet', 'toilette', 'tokyo', 'tomato', 'tone', 'tongs', 'tonic', 'tool', 'toothpaste', 'top', 'topaz', 'topiary', 'torch', 'tortilla', 'tote', 'touch', 'towel', 'town', 'toxic', 'toy', 'toybox', 'trading', 'traditional', 'tradtional', 'tranquility', 'transfer', 'transparent', 'transport', 'travel', 'traveling', 'travelogue', 'tray', 'treasure', 'tree', 'trellis', 'trellistriple', 'triangle', 'triangular', 'trim', 'trinket', 'triobase', 'triple', 'tropez', 'tropical', 'trowel', 'truffle', 'tub', 'tube', 'tumbler', 'turq', 'turquois', 'turquoise', 'tuscan', 'tutti', 'tv', 'twine', 'twist', 'two', 'ubo', 'umbrella', 'union', 'unit', 'unsaleable', 'urban', 'usb', 'utensil', 'utilty', 'vacant', 'valentine', 'vanilla', 'vase', 'vega', 'vegetable', 'velvet', 'victorian', 'vie', 'villa', 'village', 'vine', 'vint', 'vintage', 'vinyl', 'vip', 'vippassport', 'voile', 'votive', 'voucher', 'wake', 'wall', 'wallet', 'wallhanging', 'war', 'warmer', 'wash', 'washbag', 'washing', 'washroom', 'waste', 'wastepaper', 'water', 'watering', 'watermelon', 'waterpump', 'wax', 'way', 'wc', 'website', 'wedding', 'weekend', 'weight', 'welcome', 'wet', 'wheelbarrow', 'whisk', 'whit', 'white', 'wht', 'wick', 'wicker', 'wildflower', 'willie', 'windchime', 'windmill', 'windsock', 'wine', 'winkie', 'wire', 'wireless', 'wise', 'wish', 'wishing', 'witch', 'wobbly', 'woman', 'wood', 'wooden', 'woodland', 'wool', 'woolly', 'word', 'work', 'world', 'woven', 'wrap', 'wrapping', 'wreath', 'wrecking', 'writing', 'wrong', 'wrongly', 'xmas', 'yellow', 'yuletide', 'zero', 'zinc']\n"
     ]
    }
   ],
   "source": [
    "print(tfid_vectorizer.get_feature_names())"
   ]
  },
  {
   "cell_type": "code",
   "execution_count": 71,
   "metadata": {},
   "outputs": [
    {
     "data": {
      "text/plain": [
       "(541909, 2032)"
      ]
     },
     "execution_count": 71,
     "metadata": {},
     "output_type": "execute_result"
    }
   ],
   "source": [
    "tfidf_description.shape"
   ]
  },
  {
   "cell_type": "markdown",
   "metadata": {},
   "source": [
    "## Recommendations\n",
    "We will evaluate recommender systems built using on a few different techniques and packages\n",
    "### Cosine similarity based recommenders\n",
    "Map the product descriptions to vector space and use cosine similarity (angle between two vectors) to find most similar products. Results closer to `1` imply similarity. We'll be using the cosine similarity module from `sklearn`\n",
    "\n",
    "* `tf-idf` vectorizer with `cosine_similarity` \n",
    "* `count_vector` with `cosine_similarity`\n",
    "\n",
    "### Spacy\n",
    "This implementation will use a pre-trained models from spacy to compute similarity between text. \n",
    "\n",
    "### KNN Recommender\n",
    "The KNN algorithm can be used with `tf-idf` as features to find similar neighbours"
   ]
  },
  {
   "cell_type": "markdown",
   "metadata": {},
   "source": [
    "## Cosine similarity based recommenders\n",
    "### `TF-IDF` with `Cosine similarity`\n",
    "\n"
   ]
  },
  {
   "cell_type": "code",
   "execution_count": 78,
   "metadata": {},
   "outputs": [],
   "source": [
    "from sklearn.metrics.pairwise import cosine_similarity\n",
    "\n",
    "description_transform = tfid_vectorizer.transform((df['Description']))\n",
    "# cosine_similarity_tfidf = map(lambda x: cosine_similarity(description_transform, x), tf_description)"
   ]
  },
  {
   "cell_type": "code",
   "execution_count": 79,
   "metadata": {},
   "outputs": [
    {
     "data": {
      "text/plain": [
       "<541909x2032 sparse matrix of type '<class 'numpy.float64'>'\n",
       "\twith 2199400 stored elements in Compressed Sparse Row format>"
      ]
     },
     "execution_count": 79,
     "metadata": {},
     "output_type": "execute_result"
    }
   ],
   "source": [
    "description_transform"
   ]
  },
  {
   "cell_type": "code",
   "execution_count": 81,
   "metadata": {},
   "outputs": [
    {
     "data": {
      "text/plain": [
       "(541909, 3)"
      ]
     },
     "execution_count": 81,
     "metadata": {},
     "output_type": "execute_result"
    }
   ],
   "source": [
    "df.shape"
   ]
  },
  {
   "cell_type": "code",
   "execution_count": 83,
   "metadata": {},
   "outputs": [
    {
     "name": "stdout",
     "output_type": "stream",
     "text": [
      "Description                   white hanging heart t-light holder\n",
      "vectors          (0, 1992)\\t0.4516249418581932\\n  (0, 1074)\\t...\n",
      "tfidf            (0, 1992)\\t0.4516249418581932\\n  (0, 1074)\\t...\n",
      "Name: 0, dtype: object\n",
      "Description                                  white metal lantern\n",
      "vectors          (0, 1992)\\t0.4516249418581932\\n  (0, 1074)\\t...\n",
      "tfidf            (0, 1992)\\t0.4516249418581932\\n  (0, 1074)\\t...\n",
      "Name: 1, dtype: object\n"
     ]
    }
   ],
   "source": [
    "# check similarity between two vectors\n",
    "print(df.iloc[0])\n",
    "print(df.iloc[1])"
   ]
  },
  {
   "cell_type": "code",
   "execution_count": 84,
   "metadata": {},
   "outputs": [
    {
     "data": {
      "text/plain": [
       "matrix([[0., 0., 0., ..., 0., 0., 0.],\n",
       "        [0., 0., 0., ..., 0., 0., 0.],\n",
       "        [0., 0., 0., ..., 0., 0., 0.],\n",
       "        ...,\n",
       "        [0., 0., 0., ..., 0., 0., 0.],\n",
       "        [0., 0., 0., ..., 0., 0., 0.],\n",
       "        [0., 0., 0., ..., 0., 0., 0.]])"
      ]
     },
     "execution_count": 84,
     "metadata": {},
     "output_type": "execute_result"
    }
   ],
   "source": [
    "df.iloc[0]['tfidf'].todense()"
   ]
  },
  {
   "cell_type": "code",
   "execution_count": null,
   "metadata": {},
   "outputs": [],
   "source": [
    "cosine_similarity(df.iloc[0]['tfidf'].todense(), df.iloc[1]['tfidf'].todense())"
   ]
  },
  {
   "cell_type": "code",
   "execution_count": null,
   "metadata": {},
   "outputs": [],
   "source": []
  }
 ],
 "metadata": {
  "kernelspec": {
   "display_name": "Python [conda env:airflow] *",
   "language": "python",
   "name": "conda-env-airflow-py"
  },
  "language_info": {
   "codemirror_mode": {
    "name": "ipython",
    "version": 3
   },
   "file_extension": ".py",
   "mimetype": "text/x-python",
   "name": "python",
   "nbconvert_exporter": "python",
   "pygments_lexer": "ipython3",
   "version": "3.7.7"
  }
 },
 "nbformat": 4,
 "nbformat_minor": 4
}
