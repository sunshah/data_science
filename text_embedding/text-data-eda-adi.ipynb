{
 "cells": [
  {
   "cell_type": "markdown",
   "metadata": {},
   "source": [
    "# EDA for stock data\n",
    "\n",
    "In this notebook, I conduct an exploratory data analysis for Kaggle stock data. This is available at [here](https://www.kaggle.com/rishisankineni/text-similarity?select=train.csv)\n",
    "\n",
    "The following steps are followed:\n",
    "- Loading the data\n",
    "- Preprocessing it\n",
    "    - lower case\n",
    "    - stopword removal\n",
    "    - punctuation removal\n",
    "    - lemmatization\n",
    "- Exporatory Data Analysis\n",
    "    - Dataset shape\n",
    "    - Word Length\n",
    "    - Most common tickers\n",
    "    - Distribution of dependent variable (same_security)\n",
    "    - Most common words (Zipf's Law, Power law distribution)\n",
    "\n",
    "I just realized I used the word \"*following*\" twice above. Oh well! \n",
    "\n",
    "   "
   ]
  },
  {
   "cell_type": "code",
   "execution_count": 12,
   "metadata": {},
   "outputs": [],
   "source": [
    "import pandas as pd\n",
    "from nltk.corpus import stopwords\n",
    "from nltk import word_tokenize\n",
    "from nltk.stem import WordNetLemmatizer\n",
    "import string\n",
    "from unidecode import unidecode\n",
    "import seaborn as sns\n",
    "import matplotlib.pyplot as plt\n",
    "import numpy as np"
   ]
  },
  {
   "cell_type": "markdown",
   "metadata": {},
   "source": [
    "## Load Data\n"
   ]
  },
  {
   "cell_type": "code",
   "execution_count": 14,
   "metadata": {},
   "outputs": [
    {
     "data": {
      "text/html": [
       "<div>\n",
       "<style scoped>\n",
       "    .dataframe tbody tr th:only-of-type {\n",
       "        vertical-align: middle;\n",
       "    }\n",
       "\n",
       "    .dataframe tbody tr th {\n",
       "        vertical-align: top;\n",
       "    }\n",
       "\n",
       "    .dataframe thead th {\n",
       "        text-align: right;\n",
       "    }\n",
       "</style>\n",
       "<table border=\"1\" class=\"dataframe\">\n",
       "  <thead>\n",
       "    <tr style=\"text-align: right;\">\n",
       "      <th></th>\n",
       "      <th>description_x</th>\n",
       "      <th>description_y</th>\n",
       "      <th>ticker_x</th>\n",
       "      <th>ticker_y</th>\n",
       "      <th>same_security</th>\n",
       "    </tr>\n",
       "  </thead>\n",
       "  <tbody>\n",
       "    <tr>\n",
       "      <th>0</th>\n",
       "      <td>first trust dow jones internet</td>\n",
       "      <td>first trust dj internet idx</td>\n",
       "      <td>FDN</td>\n",
       "      <td>FDN</td>\n",
       "      <td>True</td>\n",
       "    </tr>\n",
       "    <tr>\n",
       "      <th>1</th>\n",
       "      <td>schwab intl large company index etf</td>\n",
       "      <td>schwab strategic tr fundamental intl large co ...</td>\n",
       "      <td>FNDF</td>\n",
       "      <td>FNDF</td>\n",
       "      <td>True</td>\n",
       "    </tr>\n",
       "    <tr>\n",
       "      <th>2</th>\n",
       "      <td>vanguard small cap index adm</td>\n",
       "      <td>vanguard small-cap index fund inst</td>\n",
       "      <td>VSMAX</td>\n",
       "      <td>VSCIX</td>\n",
       "      <td>False</td>\n",
       "    </tr>\n",
       "    <tr>\n",
       "      <th>3</th>\n",
       "      <td>duke energy corp new com new isin #us4 sedol #...</td>\n",
       "      <td>duke energy corp new com new isin #us26441c204...</td>\n",
       "      <td>DUK</td>\n",
       "      <td>DUK</td>\n",
       "      <td>True</td>\n",
       "    </tr>\n",
       "    <tr>\n",
       "      <th>4</th>\n",
       "      <td>visa inc class a</td>\n",
       "      <td>visa inc.</td>\n",
       "      <td>V</td>\n",
       "      <td>V</td>\n",
       "      <td>True</td>\n",
       "    </tr>\n",
       "  </tbody>\n",
       "</table>\n",
       "</div>"
      ],
      "text/plain": [
       "                                       description_x  \\\n",
       "0                     first trust dow jones internet   \n",
       "1                schwab intl large company index etf   \n",
       "2                       vanguard small cap index adm   \n",
       "3  duke energy corp new com new isin #us4 sedol #...   \n",
       "4                                   visa inc class a   \n",
       "\n",
       "                                       description_y ticker_x ticker_y  \\\n",
       "0                        first trust dj internet idx      FDN      FDN   \n",
       "1  schwab strategic tr fundamental intl large co ...     FNDF     FNDF   \n",
       "2                 vanguard small-cap index fund inst    VSMAX    VSCIX   \n",
       "3  duke energy corp new com new isin #us26441c204...      DUK      DUK   \n",
       "4                                          visa inc.        V        V   \n",
       "\n",
       "   same_security  \n",
       "0           True  \n",
       "1           True  \n",
       "2          False  \n",
       "3           True  \n",
       "4           True  "
      ]
     },
     "execution_count": 14,
     "metadata": {},
     "output_type": "execute_result"
    }
   ],
   "source": [
    "datapath = \"data/train.csv\"\n",
    "desc = pd.read_csv(datapath)\n",
    "desc.drop('Unnamed: 0', axis = 1, inplace = True)\n",
    "desc.head()"
   ]
  },
  {
   "cell_type": "markdown",
   "metadata": {},
   "source": [
    "## Preprocessing\n",
    "- lower case\n",
    "- stopword removal\n",
    "- punctuation removal\n",
    "- lemmatization"
   ]
  },
  {
   "cell_type": "code",
   "execution_count": 15,
   "metadata": {},
   "outputs": [
    {
     "data": {
      "text/html": [
       "<div>\n",
       "<style scoped>\n",
       "    .dataframe tbody tr th:only-of-type {\n",
       "        vertical-align: middle;\n",
       "    }\n",
       "\n",
       "    .dataframe tbody tr th {\n",
       "        vertical-align: top;\n",
       "    }\n",
       "\n",
       "    .dataframe thead th {\n",
       "        text-align: right;\n",
       "    }\n",
       "</style>\n",
       "<table border=\"1\" class=\"dataframe\">\n",
       "  <thead>\n",
       "    <tr style=\"text-align: right;\">\n",
       "      <th></th>\n",
       "      <th>description_x</th>\n",
       "      <th>description_y</th>\n",
       "      <th>ticker_x</th>\n",
       "      <th>ticker_y</th>\n",
       "      <th>same_security</th>\n",
       "    </tr>\n",
       "  </thead>\n",
       "  <tbody>\n",
       "    <tr>\n",
       "      <th>0</th>\n",
       "      <td>first trust dow jones internet</td>\n",
       "      <td>first trust dj internet idx</td>\n",
       "      <td>FDN</td>\n",
       "      <td>FDN</td>\n",
       "      <td>True</td>\n",
       "    </tr>\n",
       "    <tr>\n",
       "      <th>1</th>\n",
       "      <td>schwab intl large company index etf</td>\n",
       "      <td>schwab strategic tr fundamental intl large co ...</td>\n",
       "      <td>FNDF</td>\n",
       "      <td>FNDF</td>\n",
       "      <td>True</td>\n",
       "    </tr>\n",
       "    <tr>\n",
       "      <th>2</th>\n",
       "      <td>vanguard small cap index adm</td>\n",
       "      <td>vanguard small-cap index fund inst</td>\n",
       "      <td>VSMAX</td>\n",
       "      <td>VSCIX</td>\n",
       "      <td>False</td>\n",
       "    </tr>\n",
       "    <tr>\n",
       "      <th>3</th>\n",
       "      <td>duke energy corp new com new isin us4 sedol b7...</td>\n",
       "      <td>duke energy corp new com new isin us26441c2044...</td>\n",
       "      <td>DUK</td>\n",
       "      <td>DUK</td>\n",
       "      <td>True</td>\n",
       "    </tr>\n",
       "    <tr>\n",
       "      <th>4</th>\n",
       "      <td>visa inc class</td>\n",
       "      <td>visa inc</td>\n",
       "      <td>V</td>\n",
       "      <td>V</td>\n",
       "      <td>True</td>\n",
       "    </tr>\n",
       "  </tbody>\n",
       "</table>\n",
       "</div>"
      ],
      "text/plain": [
       "                                       description_x  \\\n",
       "0                     first trust dow jones internet   \n",
       "1                schwab intl large company index etf   \n",
       "2                       vanguard small cap index adm   \n",
       "3  duke energy corp new com new isin us4 sedol b7...   \n",
       "4                                     visa inc class   \n",
       "\n",
       "                                       description_y ticker_x ticker_y  \\\n",
       "0                        first trust dj internet idx      FDN      FDN   \n",
       "1  schwab strategic tr fundamental intl large co ...     FNDF     FNDF   \n",
       "2                 vanguard small-cap index fund inst    VSMAX    VSCIX   \n",
       "3  duke energy corp new com new isin us26441c2044...      DUK      DUK   \n",
       "4                                           visa inc        V        V   \n",
       "\n",
       "   same_security  \n",
       "0           True  \n",
       "1           True  \n",
       "2          False  \n",
       "3           True  \n",
       "4           True  "
      ]
     },
     "execution_count": 15,
     "metadata": {},
     "output_type": "execute_result"
    }
   ],
   "source": [
    "STOPWORDS = stopwords.words('english') + list(string.punctuation)\n",
    "lemmatizer = WordNetLemmatizer()\n",
    "def preprocess(txt):\n",
    "    \"\"\"\n",
    "    Preprocesses a string by lowering case, removing stopwrds, removing punctuation, lemmatizing\n",
    "    \n",
    "    Args:\n",
    "        txt: a string to be preprocessed\n",
    "    \n",
    "    Returns:\n",
    "        preprocessed string     \n",
    "    \"\"\"\n",
    "    txt = txt.lower()\n",
    "    txt = unidecode(txt)\n",
    "    txt_tokenized = word_tokenize(txt)\n",
    "    txt_tokenized = [item for item in txt_tokenized if item not in STOPWORDS]\n",
    "    for index, word in enumerate(txt_tokenized):\n",
    "        txt_tokenized[index] = lemmatizer.lemmatize(word)\n",
    "    return \" \".join(txt_tokenized)\n",
    "desc['description_x'] = desc['description_x'].apply(preprocess)\n",
    "desc['description_y'] = desc['description_y'].apply(preprocess)\n",
    "desc.head()"
   ]
  },
  {
   "cell_type": "markdown",
   "metadata": {},
   "source": [
    "## The much-awaited EDA"
   ]
  },
  {
   "cell_type": "markdown",
   "metadata": {},
   "source": [
    "### Shape of our dataset\n",
    "\n",
    "We can see that there are 2142 observations (rows), and 5 columns. Each observation represents a given description pair for a pair of stock tickers."
   ]
  },
  {
   "cell_type": "code",
   "execution_count": 16,
   "metadata": {},
   "outputs": [
    {
     "data": {
      "text/plain": [
       "(2142, 5)"
      ]
     },
     "execution_count": 16,
     "metadata": {},
     "output_type": "execute_result"
    }
   ],
   "source": [
    "#shape of our dataset\n",
    "#5 cols, 2142 descriptions (rows or observations)\n",
    "desc.shape"
   ]
  },
  {
   "cell_type": "markdown",
   "metadata": {},
   "source": [
    "### Word length of all descriptions\n",
    "\n",
    "We can see that there is a bell-shaped distribution of word length. There are two modes (bimodal), thus making our word length distribution resemble the humps of a Bactrian camel. [linked here](https://upload.wikimedia.org/wikipedia/commons/8/82/2011_Trampeltier_1528.JPG) for reference. We can also observe a slight right-skew. A minority of descriptions are quite long! \n",
    "\n",
    "\n",
    "The mean description length is 27 words, and the SD is 11.09."
   ]
  },
  {
   "cell_type": "code",
   "execution_count": 17,
   "metadata": {},
   "outputs": [
    {
     "name": "stdout",
     "output_type": "stream",
     "text": [
      "Mean Length of Description:  27.978524743230626\n",
      "SD of Length of Description:  11.09304111694851\n"
     ]
    },
    {
     "data": {
      "image/png": "[encoded data removed]",
      "text/plain": [
       "<Figure size 432x288 with 1 Axes>"
      ]
     },
     "metadata": {
      "needs_background": "light"
     },
     "output_type": "display_data"
    }
   ],
   "source": [
    "all_desc = list(desc['description_x']) + list(desc['description_y'])\n",
    "sns.distplot(list(map(lambda x: len(x), all_desc)))\n",
    "plt.title(\"Word Length of all descriptions\")\n",
    "print(\"Mean Length of Description: \", np.mean(desc['description_x'].apply(len)))\n",
    "print(\"SD of Length of Description: \", np.std(desc['description_x'].apply(len)))"
   ]
  },
  {
   "cell_type": "markdown",
   "metadata": {},
   "source": [
    "### Most common tickers\n",
    "\n",
    "We can see that there are the top three tickers are all related to Vanguard in some way. The other usual suspects (Google, FB, Visa, Ford) are also there. "
   ]
  },
  {
   "cell_type": "code",
   "execution_count": 18,
   "metadata": {},
   "outputs": [
    {
     "data": {
      "text/plain": [
       "Text(0.5, 1.0, 'Counts of tickers')"
      ]
     },
     "execution_count": 18,
     "metadata": {},
     "output_type": "execute_result"
    },
    {
     "data": {
      "image/png": "[encoded data removed]",
      "text/plain": [
       "<Figure size 432x288 with 1 Axes>"
      ]
     },
     "metadata": {
      "needs_background": "light"
     },
     "output_type": "display_data"
    }
   ],
   "source": [
    "all_tickers = pd.concat([desc['ticker_x'], desc['ticker_y']], axis = 0)\n",
    "all_tickers.value_counts(ascending = False).head(20).plot(kind = 'bar')\n",
    "plt.title(\"Counts of tickers\")"
   ]
  },
  {
   "cell_type": "markdown",
   "metadata": {},
   "source": [
    "### Distribution of dependent variable (same_security)\n",
    "\n",
    "As any good data scientist would tell you, it is also important to visualize the dependent variable. I do that here. We an see that there are a lot more True than False. That's good because it is said that Truth always wins."
   ]
  },
  {
   "cell_type": "code",
   "execution_count": 19,
   "metadata": {},
   "outputs": [
    {
     "data": {
      "text/plain": [
       "Text(0.5, 1.0, 'Distribution of same_security')"
      ]
     },
     "execution_count": 19,
     "metadata": {},
     "output_type": "execute_result"
    },
    {
     "data": {
      "image/png": "[encoded data removed]",
      "text/plain": [
       "<Figure size 432x288 with 1 Axes>"
      ]
     },
     "metadata": {
      "needs_background": "light"
     },
     "output_type": "display_data"
    }
   ],
   "source": [
    "#most are matches (i.e. True)\n",
    "sns.countplot(desc['same_security'])\n",
    "plt.title(\"Distribution of same_security\")"
   ]
  },
  {
   "cell_type": "markdown",
   "metadata": {},
   "source": [
    "### Distribution of most common words\n",
    "\n",
    "As you may have observed, no business class is complete without a good dose of the fabled 80/20 rule. Here it is. \n",
    "\n",
    "In NLP, this occurs in the form of Zipf's Law. [linked here](https://en.wikipedia.org/wiki/Zipf%27s_law) \n",
    "Here we can see that the top 20% of most common words collectively contribute ~80% of all word occurences.\n",
    "\n",
    "The below distribution is also called a Power Law Distribution."
   ]
  },
  {
   "cell_type": "code",
   "execution_count": 20,
   "metadata": {},
   "outputs": [
    {
     "data": {
      "text/plain": [
       "Text(0.5, 1.0, 'most common tokens in descriptions')"
      ]
     },
     "execution_count": 20,
     "metadata": {},
     "output_type": "execute_result"
    },
    {
     "data": {
      "image/png": "[encoded data removed]",
      "text/plain": [
       "<Figure size 432x288 with 1 Axes>"
      ]
     },
     "metadata": {
      "needs_background": "light"
     },
     "output_type": "display_data"
    }
   ],
   "source": [
    "# most common words\n",
    "tokens = []\n",
    "[tokens.append(word_tokenize(desc)) for desc in all_desc]\n",
    "#we can see a classic power law distribution. (as predicted by Zipf's Law)\n",
    "all_tokens = [item for sublist in tokens for item in sublist]\n",
    "pd.Series(all_tokens).value_counts(ascending= False, normalize= False).head(20).plot(kind = 'bar')\n",
    "plt.title('most common tokens in descriptions')\n"
   ]
  },
  {
   "cell_type": "markdown",
   "metadata": {},
   "source": [
    "In case you didn't believe me, here it is."
   ]
  },
  {
   "cell_type": "code",
   "execution_count": 22,
   "metadata": {},
   "outputs": [
    {
     "name": "stdout",
     "output_type": "stream",
     "text": [
      "the top 20% of words contribute 85.06860768209316 % of all occurences.\n"
     ]
    }
   ],
   "source": [
    "#(the top ~20% words contribute ~80% of occurences)\n",
    "token_value_counts = pd.Series(all_tokens).value_counts(ascending= False, normalize= True)\n",
    "print(\"the top 20% of words contribute {} % of all occurences.\".format(\n",
    "      np.sum(token_value_counts.head(int(0.2*len(desc))).values)*100))"
   ]
  },
  {
   "cell_type": "markdown",
   "metadata": {},
   "source": [
    "**And that my friends is the end of the EDA, as conducted by yours truly!** "
   ]
  }
 ],
 "metadata": {
  "kernelspec": {
   "display_name": "Python 3",
   "language": "python",
   "name": "python3"
  },
  "language_info": {
   "codemirror_mode": {
    "name": "ipython",
    "version": 3
   },
   "file_extension": ".py",
   "mimetype": "text/x-python",
   "name": "python",
   "nbconvert_exporter": "python",
   "pygments_lexer": "ipython3",
   "version": "3.8.3"
  },
  "toc": {
   "base_numbering": 1,
   "nav_menu": {},
   "number_sections": true,
   "sideBar": true,
   "skip_h1_title": false,
   "title_cell": "Table of Contents",
   "title_sidebar": "Contents",
   "toc_cell": false,
   "toc_position": {},
   "toc_section_display": true,
   "toc_window_display": true
  }
 },
 "nbformat": 4,
 "nbformat_minor": 4
}
