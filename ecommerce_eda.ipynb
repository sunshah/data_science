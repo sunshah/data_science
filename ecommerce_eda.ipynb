{
 "cells": [
  {
   "cell_type": "markdown",
   "metadata": {},
   "source": [
    "* shift + tab => docstring"
   ]
  },
  {
   "cell_type": "code",
   "execution_count": 1,
   "metadata": {},
   "outputs": [],
   "source": [
    "import pandas as pd\n",
    "import numpy as np\n",
    "import seaborn as sns\n",
    "import matplotlib.pyplot as plt\n",
    "# plot inline\n",
    "%matplotlib inline\n",
    "sns.set(color_codes=True)"
   ]
  },
  {
   "cell_type": "markdown",
   "metadata": {},
   "source": [
    "### Read dataframe, inspect head, tail"
   ]
  },
  {
   "cell_type": "code",
   "execution_count": 2,
   "metadata": {},
   "outputs": [
    {
     "data": {
      "text/html": [
       "<div>\n",
       "<style scoped>\n",
       "    .dataframe tbody tr th:only-of-type {\n",
       "        vertical-align: middle;\n",
       "    }\n",
       "\n",
       "    .dataframe tbody tr th {\n",
       "        vertical-align: top;\n",
       "    }\n",
       "\n",
       "    .dataframe thead th {\n",
       "        text-align: right;\n",
       "    }\n",
       "</style>\n",
       "<table border=\"1\" class=\"dataframe\">\n",
       "  <thead>\n",
       "    <tr style=\"text-align: right;\">\n",
       "      <th></th>\n",
       "      <th>event_time</th>\n",
       "      <th>event_type</th>\n",
       "      <th>product_id</th>\n",
       "      <th>category_id</th>\n",
       "      <th>category_code</th>\n",
       "      <th>brand</th>\n",
       "      <th>price</th>\n",
       "      <th>user_id</th>\n",
       "      <th>user_session</th>\n",
       "    </tr>\n",
       "  </thead>\n",
       "  <tbody>\n",
       "    <tr>\n",
       "      <th>0</th>\n",
       "      <td>2019-11-01 00:00:02 UTC</td>\n",
       "      <td>view</td>\n",
       "      <td>5802432</td>\n",
       "      <td>1487580009286598681</td>\n",
       "      <td>NaN</td>\n",
       "      <td>NaN</td>\n",
       "      <td>0.32</td>\n",
       "      <td>562076640</td>\n",
       "      <td>09fafd6c-6c99-46b1-834f-33527f4de241</td>\n",
       "    </tr>\n",
       "    <tr>\n",
       "      <th>1</th>\n",
       "      <td>2019-11-01 00:00:09 UTC</td>\n",
       "      <td>cart</td>\n",
       "      <td>5844397</td>\n",
       "      <td>1487580006317032337</td>\n",
       "      <td>NaN</td>\n",
       "      <td>NaN</td>\n",
       "      <td>2.38</td>\n",
       "      <td>553329724</td>\n",
       "      <td>2067216c-31b5-455d-a1cc-af0575a34ffb</td>\n",
       "    </tr>\n",
       "    <tr>\n",
       "      <th>2</th>\n",
       "      <td>2019-11-01 00:00:10 UTC</td>\n",
       "      <td>view</td>\n",
       "      <td>5837166</td>\n",
       "      <td>1783999064103190764</td>\n",
       "      <td>NaN</td>\n",
       "      <td>pnb</td>\n",
       "      <td>22.22</td>\n",
       "      <td>556138645</td>\n",
       "      <td>57ed222e-a54a-4907-9944-5a875c2d7f4f</td>\n",
       "    </tr>\n",
       "    <tr>\n",
       "      <th>3</th>\n",
       "      <td>2019-11-01 00:00:11 UTC</td>\n",
       "      <td>cart</td>\n",
       "      <td>5876812</td>\n",
       "      <td>1487580010100293687</td>\n",
       "      <td>NaN</td>\n",
       "      <td>jessnail</td>\n",
       "      <td>3.16</td>\n",
       "      <td>564506666</td>\n",
       "      <td>186c1951-8052-4b37-adce-dd9644b1d5f7</td>\n",
       "    </tr>\n",
       "    <tr>\n",
       "      <th>4</th>\n",
       "      <td>2019-11-01 00:00:24 UTC</td>\n",
       "      <td>remove_from_cart</td>\n",
       "      <td>5826182</td>\n",
       "      <td>1487580007483048900</td>\n",
       "      <td>NaN</td>\n",
       "      <td>NaN</td>\n",
       "      <td>3.33</td>\n",
       "      <td>553329724</td>\n",
       "      <td>2067216c-31b5-455d-a1cc-af0575a34ffb</td>\n",
       "    </tr>\n",
       "  </tbody>\n",
       "</table>\n",
       "</div>"
      ],
      "text/plain": [
       "                event_time        event_type  product_id          category_id  \\\n",
       "0  2019-11-01 00:00:02 UTC              view     5802432  1487580009286598681   \n",
       "1  2019-11-01 00:00:09 UTC              cart     5844397  1487580006317032337   \n",
       "2  2019-11-01 00:00:10 UTC              view     5837166  1783999064103190764   \n",
       "3  2019-11-01 00:00:11 UTC              cart     5876812  1487580010100293687   \n",
       "4  2019-11-01 00:00:24 UTC  remove_from_cart     5826182  1487580007483048900   \n",
       "\n",
       "  category_code     brand  price    user_id  \\\n",
       "0           NaN       NaN   0.32  562076640   \n",
       "1           NaN       NaN   2.38  553329724   \n",
       "2           NaN       pnb  22.22  556138645   \n",
       "3           NaN  jessnail   3.16  564506666   \n",
       "4           NaN       NaN   3.33  553329724   \n",
       "\n",
       "                           user_session  \n",
       "0  09fafd6c-6c99-46b1-834f-33527f4de241  \n",
       "1  2067216c-31b5-455d-a1cc-af0575a34ffb  \n",
       "2  57ed222e-a54a-4907-9944-5a875c2d7f4f  \n",
       "3  186c1951-8052-4b37-adce-dd9644b1d5f7  \n",
       "4  2067216c-31b5-455d-a1cc-af0575a34ffb  "
      ]
     },
     "execution_count": 2,
     "metadata": {},
     "output_type": "execute_result"
    }
   ],
   "source": [
    "df = pd.read_csv('data/2019-Nov.csv')\n",
    "df.head(5)"
   ]
  },
  {
   "cell_type": "code",
   "execution_count": 3,
   "metadata": {},
   "outputs": [
    {
     "data": {
      "text/html": [
       "<div>\n",
       "<style scoped>\n",
       "    .dataframe tbody tr th:only-of-type {\n",
       "        vertical-align: middle;\n",
       "    }\n",
       "\n",
       "    .dataframe tbody tr th {\n",
       "        vertical-align: top;\n",
       "    }\n",
       "\n",
       "    .dataframe thead th {\n",
       "        text-align: right;\n",
       "    }\n",
       "</style>\n",
       "<table border=\"1\" class=\"dataframe\">\n",
       "  <thead>\n",
       "    <tr style=\"text-align: right;\">\n",
       "      <th></th>\n",
       "      <th>event_time</th>\n",
       "      <th>event_type</th>\n",
       "      <th>product_id</th>\n",
       "      <th>category_id</th>\n",
       "      <th>category_code</th>\n",
       "      <th>brand</th>\n",
       "      <th>price</th>\n",
       "      <th>user_id</th>\n",
       "      <th>user_session</th>\n",
       "    </tr>\n",
       "  </thead>\n",
       "  <tbody>\n",
       "    <tr>\n",
       "      <th>4635832</th>\n",
       "      <td>2019-11-30 23:59:46 UTC</td>\n",
       "      <td>view</td>\n",
       "      <td>5830317</td>\n",
       "      <td>1487580009496313889</td>\n",
       "      <td>NaN</td>\n",
       "      <td>NaN</td>\n",
       "      <td>4.76</td>\n",
       "      <td>457678989</td>\n",
       "      <td>ee50b160-a4db-4722-8751-6812c5b38295</td>\n",
       "    </tr>\n",
       "    <tr>\n",
       "      <th>4635833</th>\n",
       "      <td>2019-11-30 23:59:47 UTC</td>\n",
       "      <td>view</td>\n",
       "      <td>5733064</td>\n",
       "      <td>1487580004832248652</td>\n",
       "      <td>NaN</td>\n",
       "      <td>beautix</td>\n",
       "      <td>9.37</td>\n",
       "      <td>422196217</td>\n",
       "      <td>ab5e6dd5-8700-4ecc-a300-9f1eca5d1a95</td>\n",
       "    </tr>\n",
       "    <tr>\n",
       "      <th>4635834</th>\n",
       "      <td>2019-11-30 23:59:47 UTC</td>\n",
       "      <td>view</td>\n",
       "      <td>5867785</td>\n",
       "      <td>1487580007835370453</td>\n",
       "      <td>NaN</td>\n",
       "      <td>kims</td>\n",
       "      <td>31.10</td>\n",
       "      <td>572579084</td>\n",
       "      <td>d42865b7-7e04-4038-9be0-a59165625f06</td>\n",
       "    </tr>\n",
       "    <tr>\n",
       "      <th>4635835</th>\n",
       "      <td>2019-11-30 23:59:57 UTC</td>\n",
       "      <td>view</td>\n",
       "      <td>5779406</td>\n",
       "      <td>2151191071051219817</td>\n",
       "      <td>NaN</td>\n",
       "      <td>NaN</td>\n",
       "      <td>2.86</td>\n",
       "      <td>540006764</td>\n",
       "      <td>d4b5aa49-d731-40f1-92f1-277416d6e063</td>\n",
       "    </tr>\n",
       "    <tr>\n",
       "      <th>4635836</th>\n",
       "      <td>2019-11-30 23:59:58 UTC</td>\n",
       "      <td>view</td>\n",
       "      <td>5880201</td>\n",
       "      <td>2029731308699124089</td>\n",
       "      <td>NaN</td>\n",
       "      <td>rasyan</td>\n",
       "      <td>3.76</td>\n",
       "      <td>579969854</td>\n",
       "      <td>e9fa2c3e-8c9e-448c-880a-21ca57c18b3b</td>\n",
       "    </tr>\n",
       "  </tbody>\n",
       "</table>\n",
       "</div>"
      ],
      "text/plain": [
       "                      event_time event_type  product_id          category_id  \\\n",
       "4635832  2019-11-30 23:59:46 UTC       view     5830317  1487580009496313889   \n",
       "4635833  2019-11-30 23:59:47 UTC       view     5733064  1487580004832248652   \n",
       "4635834  2019-11-30 23:59:47 UTC       view     5867785  1487580007835370453   \n",
       "4635835  2019-11-30 23:59:57 UTC       view     5779406  2151191071051219817   \n",
       "4635836  2019-11-30 23:59:58 UTC       view     5880201  2029731308699124089   \n",
       "\n",
       "        category_code    brand  price    user_id  \\\n",
       "4635832           NaN      NaN   4.76  457678989   \n",
       "4635833           NaN  beautix   9.37  422196217   \n",
       "4635834           NaN     kims  31.10  572579084   \n",
       "4635835           NaN      NaN   2.86  540006764   \n",
       "4635836           NaN   rasyan   3.76  579969854   \n",
       "\n",
       "                                 user_session  \n",
       "4635832  ee50b160-a4db-4722-8751-6812c5b38295  \n",
       "4635833  ab5e6dd5-8700-4ecc-a300-9f1eca5d1a95  \n",
       "4635834  d42865b7-7e04-4038-9be0-a59165625f06  \n",
       "4635835  d4b5aa49-d731-40f1-92f1-277416d6e063  \n",
       "4635836  e9fa2c3e-8c9e-448c-880a-21ca57c18b3b  "
      ]
     },
     "execution_count": 3,
     "metadata": {},
     "output_type": "execute_result"
    }
   ],
   "source": [
    "df.tail(5)"
   ]
  },
  {
   "cell_type": "markdown",
   "metadata": {},
   "source": [
    "### Inspect data types in each column"
   ]
  },
  {
   "cell_type": "code",
   "execution_count": 4,
   "metadata": {},
   "outputs": [
    {
     "data": {
      "text/plain": [
       "event_time        object\n",
       "event_type        object\n",
       "product_id         int64\n",
       "category_id        int64\n",
       "category_code     object\n",
       "brand             object\n",
       "price            float64\n",
       "user_id            int64\n",
       "user_session      object\n",
       "dtype: object"
      ]
     },
     "execution_count": 4,
     "metadata": {},
     "output_type": "execute_result"
    }
   ],
   "source": [
    "df.dtypes"
   ]
  },
  {
   "cell_type": "markdown",
   "metadata": {},
   "source": [
    "### Total number of rows, columns"
   ]
  },
  {
   "cell_type": "code",
   "execution_count": 5,
   "metadata": {},
   "outputs": [
    {
     "data": {
      "text/plain": [
       "(4635837, 9)"
      ]
     },
     "execution_count": 5,
     "metadata": {},
     "output_type": "execute_result"
    }
   ],
   "source": [
    "df.shape"
   ]
  },
  {
   "cell_type": "markdown",
   "metadata": {},
   "source": [
    "### Find duplicates and remove them"
   ]
  },
  {
   "cell_type": "code",
   "execution_count": 6,
   "metadata": {},
   "outputs": [
    {
     "name": "stdout",
     "output_type": "stream",
     "text": [
      "duplicate rows (246693, 9)\n"
     ]
    }
   ],
   "source": [
    "df_duplicates = df[df.duplicated()]\n",
    "print(f'duplicate rows {df_duplicates.shape}')"
   ]
  },
  {
   "cell_type": "code",
   "execution_count": 7,
   "metadata": {},
   "outputs": [],
   "source": [
    "df = df.drop_duplicates()"
   ]
  },
  {
   "cell_type": "markdown",
   "metadata": {},
   "source": [
    "### Investigate null values"
   ]
  },
  {
   "cell_type": "code",
   "execution_count": 8,
   "metadata": {},
   "outputs": [
    {
     "name": "stdout",
     "output_type": "stream",
     "text": [
      "event_time             0\n",
      "event_type             0\n",
      "product_id             0\n",
      "category_id            0\n",
      "category_code    4315582\n",
      "brand            1879959\n",
      "price                  0\n",
      "user_id                0\n",
      "user_session         755\n",
      "dtype: int64\n"
     ]
    }
   ],
   "source": [
    "print(df.isnull().sum())"
   ]
  },
  {
   "cell_type": "markdown",
   "metadata": {},
   "source": [
    "### Investigate outliers"
   ]
  },
  {
   "cell_type": "code",
   "execution_count": 9,
   "metadata": {},
   "outputs": [
    {
     "data": {
      "text/plain": [
       "<matplotlib.axes._subplots.AxesSubplot at 0x123370850>"
      ]
     },
     "execution_count": 9,
     "metadata": {},
     "output_type": "execute_result"
    },
    {
     "data": {
      "image/png": "[encoded data removed]",
      "text/plain": [
       "<Figure size 432x288 with 1 Axes>"
      ]
     },
     "metadata": {},
     "output_type": "display_data"
    }
   ],
   "source": [
    "sns.boxplot(x=df['price'])"
   ]
  },
  {
   "cell_type": "markdown",
   "metadata": {},
   "source": [
    "#### Negative price events, find out what this means"
   ]
  },
  {
   "cell_type": "code",
   "execution_count": 10,
   "metadata": {},
   "outputs": [
    {
     "name": "stdout",
     "output_type": "stream",
     "text": [
      "0          False\n",
      "1          False\n",
      "2          False\n",
      "3          False\n",
      "4          False\n",
      "           ...  \n",
      "4635832    False\n",
      "4635833    False\n",
      "4635834    False\n",
      "4635835    False\n",
      "4635836    False\n",
      "Name: price, Length: 4389144, dtype: bool\n"
     ]
    }
   ],
   "source": [
    "df_is_price_neg = df['price'] < 0\n",
    "print(df_is_price_neg)"
   ]
  },
  {
   "cell_type": "code",
   "execution_count": 11,
   "metadata": {},
   "outputs": [
    {
     "data": {
      "text/html": [
       "<div>\n",
       "<style scoped>\n",
       "    .dataframe tbody tr th:only-of-type {\n",
       "        vertical-align: middle;\n",
       "    }\n",
       "\n",
       "    .dataframe tbody tr th {\n",
       "        vertical-align: top;\n",
       "    }\n",
       "\n",
       "    .dataframe thead th {\n",
       "        text-align: right;\n",
       "    }\n",
       "</style>\n",
       "<table border=\"1\" class=\"dataframe\">\n",
       "  <thead>\n",
       "    <tr style=\"text-align: right;\">\n",
       "      <th></th>\n",
       "      <th>event_time</th>\n",
       "      <th>event_type</th>\n",
       "      <th>product_id</th>\n",
       "      <th>category_id</th>\n",
       "      <th>category_code</th>\n",
       "      <th>brand</th>\n",
       "      <th>price</th>\n",
       "      <th>user_id</th>\n",
       "      <th>user_session</th>\n",
       "    </tr>\n",
       "  </thead>\n",
       "  <tbody>\n",
       "    <tr>\n",
       "      <th>73174</th>\n",
       "      <td>2019-11-01 15:36:23 UTC</td>\n",
       "      <td>purchase</td>\n",
       "      <td>5716855</td>\n",
       "      <td>1487580014042939619</td>\n",
       "      <td>NaN</td>\n",
       "      <td>NaN</td>\n",
       "      <td>-7.94</td>\n",
       "      <td>566480066</td>\n",
       "      <td>34fa4291-9e2e-470f-a678-b84d9bbbdfe3</td>\n",
       "    </tr>\n",
       "    <tr>\n",
       "      <th>330623</th>\n",
       "      <td>2019-11-03 18:47:04 UTC</td>\n",
       "      <td>purchase</td>\n",
       "      <td>5716859</td>\n",
       "      <td>1487580014042939619</td>\n",
       "      <td>NaN</td>\n",
       "      <td>NaN</td>\n",
       "      <td>-47.62</td>\n",
       "      <td>567194545</td>\n",
       "      <td>fd27b149-3006-41cd-8afc-884c47272e5d</td>\n",
       "    </tr>\n",
       "    <tr>\n",
       "      <th>408236</th>\n",
       "      <td>2019-11-04 11:54:29 UTC</td>\n",
       "      <td>purchase</td>\n",
       "      <td>5670257</td>\n",
       "      <td>1487580014042939619</td>\n",
       "      <td>NaN</td>\n",
       "      <td>NaN</td>\n",
       "      <td>-15.87</td>\n",
       "      <td>516725846</td>\n",
       "      <td>26e74f0c-762a-4162-b807-72a3e7bfa015</td>\n",
       "    </tr>\n",
       "    <tr>\n",
       "      <th>408237</th>\n",
       "      <td>2019-11-04 11:54:29 UTC</td>\n",
       "      <td>purchase</td>\n",
       "      <td>5716857</td>\n",
       "      <td>1487580014042939619</td>\n",
       "      <td>NaN</td>\n",
       "      <td>NaN</td>\n",
       "      <td>-23.81</td>\n",
       "      <td>516725846</td>\n",
       "      <td>26e74f0c-762a-4162-b807-72a3e7bfa015</td>\n",
       "    </tr>\n",
       "    <tr>\n",
       "      <th>706884</th>\n",
       "      <td>2019-11-06 11:51:26 UTC</td>\n",
       "      <td>purchase</td>\n",
       "      <td>5670257</td>\n",
       "      <td>1487580014042939619</td>\n",
       "      <td>NaN</td>\n",
       "      <td>NaN</td>\n",
       "      <td>-15.87</td>\n",
       "      <td>568159131</td>\n",
       "      <td>8edce83b-2d4c-4654-89e6-16234303031c</td>\n",
       "    </tr>\n",
       "  </tbody>\n",
       "</table>\n",
       "</div>"
      ],
      "text/plain": [
       "                     event_time event_type  product_id          category_id  \\\n",
       "73174   2019-11-01 15:36:23 UTC   purchase     5716855  1487580014042939619   \n",
       "330623  2019-11-03 18:47:04 UTC   purchase     5716859  1487580014042939619   \n",
       "408236  2019-11-04 11:54:29 UTC   purchase     5670257  1487580014042939619   \n",
       "408237  2019-11-04 11:54:29 UTC   purchase     5716857  1487580014042939619   \n",
       "706884  2019-11-06 11:51:26 UTC   purchase     5670257  1487580014042939619   \n",
       "\n",
       "       category_code brand  price    user_id  \\\n",
       "73174            NaN   NaN  -7.94  566480066   \n",
       "330623           NaN   NaN -47.62  567194545   \n",
       "408236           NaN   NaN -15.87  516725846   \n",
       "408237           NaN   NaN -23.81  516725846   \n",
       "706884           NaN   NaN -15.87  568159131   \n",
       "\n",
       "                                user_session  \n",
       "73174   34fa4291-9e2e-470f-a678-b84d9bbbdfe3  \n",
       "330623  fd27b149-3006-41cd-8afc-884c47272e5d  \n",
       "408236  26e74f0c-762a-4162-b807-72a3e7bfa015  \n",
       "408237  26e74f0c-762a-4162-b807-72a3e7bfa015  \n",
       "706884  8edce83b-2d4c-4654-89e6-16234303031c  "
      ]
     },
     "execution_count": 11,
     "metadata": {},
     "output_type": "execute_result"
    }
   ],
   "source": [
    "df_price_neg = df[df_is_price_neg]\n",
    "df_price_neg.head(5)"
   ]
  },
  {
   "cell_type": "code",
   "execution_count": 12,
   "metadata": {},
   "outputs": [
    {
     "data": {
      "text/plain": [
       "(16, 9)"
      ]
     },
     "execution_count": 12,
     "metadata": {},
     "output_type": "execute_result"
    }
   ],
   "source": [
    "df_price_neg.shape"
   ]
  },
  {
   "cell_type": "markdown",
   "metadata": {},
   "source": [
    "#### Negative prices are probably a data entry issue, we can convert these to positive"
   ]
  },
  {
   "cell_type": "code",
   "execution_count": 13,
   "metadata": {},
   "outputs": [],
   "source": [
    "df_product_5716855 = df.query('product_id == 5716855')"
   ]
  },
  {
   "cell_type": "markdown",
   "metadata": {},
   "source": [
    "#### Check if other entries with the same product id have negative price"
   ]
  },
  {
   "cell_type": "code",
   "execution_count": 14,
   "metadata": {},
   "outputs": [
    {
     "data": {
      "text/html": [
       "<div>\n",
       "<style scoped>\n",
       "    .dataframe tbody tr th:only-of-type {\n",
       "        vertical-align: middle;\n",
       "    }\n",
       "\n",
       "    .dataframe tbody tr th {\n",
       "        vertical-align: top;\n",
       "    }\n",
       "\n",
       "    .dataframe thead th {\n",
       "        text-align: right;\n",
       "    }\n",
       "</style>\n",
       "<table border=\"1\" class=\"dataframe\">\n",
       "  <thead>\n",
       "    <tr style=\"text-align: right;\">\n",
       "      <th></th>\n",
       "      <th>event_time</th>\n",
       "      <th>event_type</th>\n",
       "      <th>product_id</th>\n",
       "      <th>category_id</th>\n",
       "      <th>category_code</th>\n",
       "      <th>brand</th>\n",
       "      <th>price</th>\n",
       "      <th>user_id</th>\n",
       "      <th>user_session</th>\n",
       "    </tr>\n",
       "  </thead>\n",
       "  <tbody>\n",
       "    <tr>\n",
       "      <th>73174</th>\n",
       "      <td>2019-11-01 15:36:23 UTC</td>\n",
       "      <td>purchase</td>\n",
       "      <td>5716855</td>\n",
       "      <td>1487580014042939619</td>\n",
       "      <td>NaN</td>\n",
       "      <td>NaN</td>\n",
       "      <td>-7.94</td>\n",
       "      <td>566480066</td>\n",
       "      <td>34fa4291-9e2e-470f-a678-b84d9bbbdfe3</td>\n",
       "    </tr>\n",
       "    <tr>\n",
       "      <th>3990421</th>\n",
       "      <td>2019-11-27 16:17:31 UTC</td>\n",
       "      <td>purchase</td>\n",
       "      <td>5716855</td>\n",
       "      <td>1487580014042939619</td>\n",
       "      <td>NaN</td>\n",
       "      <td>NaN</td>\n",
       "      <td>-7.94</td>\n",
       "      <td>395032118</td>\n",
       "      <td>dad52920-321a-4d0d-805e-e83ff813d994</td>\n",
       "    </tr>\n",
       "  </tbody>\n",
       "</table>\n",
       "</div>"
      ],
      "text/plain": [
       "                      event_time event_type  product_id          category_id  \\\n",
       "73174    2019-11-01 15:36:23 UTC   purchase     5716855  1487580014042939619   \n",
       "3990421  2019-11-27 16:17:31 UTC   purchase     5716855  1487580014042939619   \n",
       "\n",
       "        category_code brand  price    user_id  \\\n",
       "73174             NaN   NaN  -7.94  566480066   \n",
       "3990421           NaN   NaN  -7.94  395032118   \n",
       "\n",
       "                                 user_session  \n",
       "73174    34fa4291-9e2e-470f-a678-b84d9bbbdfe3  \n",
       "3990421  dad52920-321a-4d0d-805e-e83ff813d994  "
      ]
     },
     "execution_count": 14,
     "metadata": {},
     "output_type": "execute_result"
    }
   ],
   "source": [
    "df_product_5716855.head()"
   ]
  },
  {
   "cell_type": "code",
   "execution_count": 15,
   "metadata": {},
   "outputs": [],
   "source": [
    "df_product_5716859 = df.query('product_id == 5716859')"
   ]
  },
  {
   "cell_type": "code",
   "execution_count": 16,
   "metadata": {},
   "outputs": [
    {
     "data": {
      "text/html": [
       "<div>\n",
       "<style scoped>\n",
       "    .dataframe tbody tr th:only-of-type {\n",
       "        vertical-align: middle;\n",
       "    }\n",
       "\n",
       "    .dataframe tbody tr th {\n",
       "        vertical-align: top;\n",
       "    }\n",
       "\n",
       "    .dataframe thead th {\n",
       "        text-align: right;\n",
       "    }\n",
       "</style>\n",
       "<table border=\"1\" class=\"dataframe\">\n",
       "  <thead>\n",
       "    <tr style=\"text-align: right;\">\n",
       "      <th></th>\n",
       "      <th>event_time</th>\n",
       "      <th>event_type</th>\n",
       "      <th>product_id</th>\n",
       "      <th>category_id</th>\n",
       "      <th>category_code</th>\n",
       "      <th>brand</th>\n",
       "      <th>price</th>\n",
       "      <th>user_id</th>\n",
       "      <th>user_session</th>\n",
       "    </tr>\n",
       "  </thead>\n",
       "  <tbody>\n",
       "    <tr>\n",
       "      <th>330623</th>\n",
       "      <td>2019-11-03 18:47:04 UTC</td>\n",
       "      <td>purchase</td>\n",
       "      <td>5716859</td>\n",
       "      <td>1487580014042939619</td>\n",
       "      <td>NaN</td>\n",
       "      <td>NaN</td>\n",
       "      <td>-47.62</td>\n",
       "      <td>567194545</td>\n",
       "      <td>fd27b149-3006-41cd-8afc-884c47272e5d</td>\n",
       "    </tr>\n",
       "    <tr>\n",
       "      <th>2909975</th>\n",
       "      <td>2019-11-21 19:34:16 UTC</td>\n",
       "      <td>purchase</td>\n",
       "      <td>5716859</td>\n",
       "      <td>1487580014042939619</td>\n",
       "      <td>NaN</td>\n",
       "      <td>NaN</td>\n",
       "      <td>-47.62</td>\n",
       "      <td>419166079</td>\n",
       "      <td>7e76a460-adb4-4e3f-9c85-c08a97016aa0</td>\n",
       "    </tr>\n",
       "    <tr>\n",
       "      <th>3093813</th>\n",
       "      <td>2019-11-22 13:46:53 UTC</td>\n",
       "      <td>purchase</td>\n",
       "      <td>5716859</td>\n",
       "      <td>1487580014042939619</td>\n",
       "      <td>NaN</td>\n",
       "      <td>NaN</td>\n",
       "      <td>-47.62</td>\n",
       "      <td>540003383</td>\n",
       "      <td>33da1676-00df-4f21-b87e-4c1b9b09420c</td>\n",
       "    </tr>\n",
       "    <tr>\n",
       "      <th>3306219</th>\n",
       "      <td>2019-11-23 13:30:53 UTC</td>\n",
       "      <td>purchase</td>\n",
       "      <td>5716859</td>\n",
       "      <td>1487580014042939619</td>\n",
       "      <td>NaN</td>\n",
       "      <td>NaN</td>\n",
       "      <td>-47.62</td>\n",
       "      <td>574878046</td>\n",
       "      <td>b60c5299-7a53-e636-6dc3-c7fd5d86452b</td>\n",
       "    </tr>\n",
       "  </tbody>\n",
       "</table>\n",
       "</div>"
      ],
      "text/plain": [
       "                      event_time event_type  product_id          category_id  \\\n",
       "330623   2019-11-03 18:47:04 UTC   purchase     5716859  1487580014042939619   \n",
       "2909975  2019-11-21 19:34:16 UTC   purchase     5716859  1487580014042939619   \n",
       "3093813  2019-11-22 13:46:53 UTC   purchase     5716859  1487580014042939619   \n",
       "3306219  2019-11-23 13:30:53 UTC   purchase     5716859  1487580014042939619   \n",
       "\n",
       "        category_code brand  price    user_id  \\\n",
       "330623            NaN   NaN -47.62  567194545   \n",
       "2909975           NaN   NaN -47.62  419166079   \n",
       "3093813           NaN   NaN -47.62  540003383   \n",
       "3306219           NaN   NaN -47.62  574878046   \n",
       "\n",
       "                                 user_session  \n",
       "330623   fd27b149-3006-41cd-8afc-884c47272e5d  \n",
       "2909975  7e76a460-adb4-4e3f-9c85-c08a97016aa0  \n",
       "3093813  33da1676-00df-4f21-b87e-4c1b9b09420c  \n",
       "3306219  b60c5299-7a53-e636-6dc3-c7fd5d86452b  "
      ]
     },
     "execution_count": 16,
     "metadata": {},
     "output_type": "execute_result"
    }
   ],
   "source": [
    "df_product_5716859.head()"
   ]
  },
  {
   "cell_type": "markdown",
   "metadata": {},
   "source": [
    "### Fix negative price by applying abs function"
   ]
  },
  {
   "cell_type": "code",
   "execution_count": 17,
   "metadata": {},
   "outputs": [],
   "source": [
    "df['price'] = df['price'].apply(lambda x: abs(x)) "
   ]
  },
  {
   "cell_type": "markdown",
   "metadata": {},
   "source": [
    "###  Inter Quartile Range (IQR) Score"
   ]
  },
  {
   "cell_type": "code",
   "execution_count": 18,
   "metadata": {},
   "outputs": [
    {
     "name": "stdout",
     "output_type": "stream",
     "text": [
      "IQR: product_id     1.326570e+05\n",
      "category_id    7.516192e+09\n",
      "price          4.670000e+00\n",
      "user_id        9.774198e+07\n",
      "dtype: float64\n"
     ]
    }
   ],
   "source": [
    "Q1 = df.quantile(q=0.25)\n",
    "Q3 = df.quantile(q=0.75)\n",
    "IQR = Q3 - Q1\n",
    "print(f'IQR: {IQR}')"
   ]
  },
  {
   "cell_type": "code",
   "execution_count": 19,
   "metadata": {},
   "outputs": [
    {
     "data": {
      "text/plain": [
       "4.67"
      ]
     },
     "execution_count": 19,
     "metadata": {},
     "output_type": "execute_result"
    }
   ],
   "source": [
    "IQR['price']"
   ]
  },
  {
   "cell_type": "markdown",
   "metadata": {},
   "source": [
    "#### Removing outliers doesn't make sense for categories other than price, however price variability is expected in products"
   ]
  },
  {
   "cell_type": "code",
   "execution_count": 20,
   "metadata": {},
   "outputs": [
    {
     "data": {
      "text/plain": [
       "(4389144, 9)"
      ]
     },
     "execution_count": 20,
     "metadata": {},
     "output_type": "execute_result"
    }
   ],
   "source": [
    "df_price_iqr = df[~((df['price'] < 1.5 * IQR['price']) | df['price'] > 1.5 * IQR['price'])]\n",
    "df_price_iqr.shape"
   ]
  },
  {
   "cell_type": "code",
   "execution_count": 21,
   "metadata": {},
   "outputs": [
    {
     "data": {
      "text/html": [
       "<div>\n",
       "<style scoped>\n",
       "    .dataframe tbody tr th:only-of-type {\n",
       "        vertical-align: middle;\n",
       "    }\n",
       "\n",
       "    .dataframe tbody tr th {\n",
       "        vertical-align: top;\n",
       "    }\n",
       "\n",
       "    .dataframe thead th {\n",
       "        text-align: right;\n",
       "    }\n",
       "</style>\n",
       "<table border=\"1\" class=\"dataframe\">\n",
       "  <thead>\n",
       "    <tr style=\"text-align: right;\">\n",
       "      <th></th>\n",
       "      <th>event_time</th>\n",
       "      <th>event_type</th>\n",
       "      <th>product_id</th>\n",
       "      <th>category_id</th>\n",
       "      <th>category_code</th>\n",
       "      <th>brand</th>\n",
       "      <th>price</th>\n",
       "      <th>user_id</th>\n",
       "      <th>user_session</th>\n",
       "    </tr>\n",
       "  </thead>\n",
       "  <tbody>\n",
       "    <tr>\n",
       "      <th>0</th>\n",
       "      <td>2019-11-01 00:00:02 UTC</td>\n",
       "      <td>view</td>\n",
       "      <td>5802432</td>\n",
       "      <td>1487580009286598681</td>\n",
       "      <td>NaN</td>\n",
       "      <td>NaN</td>\n",
       "      <td>0.32</td>\n",
       "      <td>562076640</td>\n",
       "      <td>09fafd6c-6c99-46b1-834f-33527f4de241</td>\n",
       "    </tr>\n",
       "    <tr>\n",
       "      <th>1</th>\n",
       "      <td>2019-11-01 00:00:09 UTC</td>\n",
       "      <td>cart</td>\n",
       "      <td>5844397</td>\n",
       "      <td>1487580006317032337</td>\n",
       "      <td>NaN</td>\n",
       "      <td>NaN</td>\n",
       "      <td>2.38</td>\n",
       "      <td>553329724</td>\n",
       "      <td>2067216c-31b5-455d-a1cc-af0575a34ffb</td>\n",
       "    </tr>\n",
       "    <tr>\n",
       "      <th>2</th>\n",
       "      <td>2019-11-01 00:00:10 UTC</td>\n",
       "      <td>view</td>\n",
       "      <td>5837166</td>\n",
       "      <td>1783999064103190764</td>\n",
       "      <td>NaN</td>\n",
       "      <td>pnb</td>\n",
       "      <td>22.22</td>\n",
       "      <td>556138645</td>\n",
       "      <td>57ed222e-a54a-4907-9944-5a875c2d7f4f</td>\n",
       "    </tr>\n",
       "    <tr>\n",
       "      <th>3</th>\n",
       "      <td>2019-11-01 00:00:11 UTC</td>\n",
       "      <td>cart</td>\n",
       "      <td>5876812</td>\n",
       "      <td>1487580010100293687</td>\n",
       "      <td>NaN</td>\n",
       "      <td>jessnail</td>\n",
       "      <td>3.16</td>\n",
       "      <td>564506666</td>\n",
       "      <td>186c1951-8052-4b37-adce-dd9644b1d5f7</td>\n",
       "    </tr>\n",
       "    <tr>\n",
       "      <th>4</th>\n",
       "      <td>2019-11-01 00:00:24 UTC</td>\n",
       "      <td>remove_from_cart</td>\n",
       "      <td>5826182</td>\n",
       "      <td>1487580007483048900</td>\n",
       "      <td>NaN</td>\n",
       "      <td>NaN</td>\n",
       "      <td>3.33</td>\n",
       "      <td>553329724</td>\n",
       "      <td>2067216c-31b5-455d-a1cc-af0575a34ffb</td>\n",
       "    </tr>\n",
       "    <tr>\n",
       "      <th>6</th>\n",
       "      <td>2019-11-01 00:00:25 UTC</td>\n",
       "      <td>view</td>\n",
       "      <td>5856189</td>\n",
       "      <td>1487580009026551821</td>\n",
       "      <td>NaN</td>\n",
       "      <td>runail</td>\n",
       "      <td>15.71</td>\n",
       "      <td>562076640</td>\n",
       "      <td>09fafd6c-6c99-46b1-834f-33527f4de241</td>\n",
       "    </tr>\n",
       "    <tr>\n",
       "      <th>7</th>\n",
       "      <td>2019-11-01 00:00:32 UTC</td>\n",
       "      <td>view</td>\n",
       "      <td>5837835</td>\n",
       "      <td>1933472286753424063</td>\n",
       "      <td>NaN</td>\n",
       "      <td>NaN</td>\n",
       "      <td>3.49</td>\n",
       "      <td>514649199</td>\n",
       "      <td>432a4e95-375c-4b40-bd36-0fc039e77580</td>\n",
       "    </tr>\n",
       "    <tr>\n",
       "      <th>8</th>\n",
       "      <td>2019-11-01 00:00:34 UTC</td>\n",
       "      <td>remove_from_cart</td>\n",
       "      <td>5870838</td>\n",
       "      <td>1487580007675986893</td>\n",
       "      <td>NaN</td>\n",
       "      <td>milv</td>\n",
       "      <td>0.79</td>\n",
       "      <td>429913900</td>\n",
       "      <td>2f0bff3c-252f-4fe6-afcd-5d8a6a92839a</td>\n",
       "    </tr>\n",
       "    <tr>\n",
       "      <th>9</th>\n",
       "      <td>2019-11-01 00:00:37 UTC</td>\n",
       "      <td>view</td>\n",
       "      <td>5870803</td>\n",
       "      <td>1487580007675986893</td>\n",
       "      <td>NaN</td>\n",
       "      <td>milv</td>\n",
       "      <td>0.79</td>\n",
       "      <td>429913900</td>\n",
       "      <td>2f0bff3c-252f-4fe6-afcd-5d8a6a92839a</td>\n",
       "    </tr>\n",
       "    <tr>\n",
       "      <th>10</th>\n",
       "      <td>2019-11-01 00:00:42 UTC</td>\n",
       "      <td>remove_from_cart</td>\n",
       "      <td>5870803</td>\n",
       "      <td>1487580007675986893</td>\n",
       "      <td>NaN</td>\n",
       "      <td>milv</td>\n",
       "      <td>0.79</td>\n",
       "      <td>429913900</td>\n",
       "      <td>2f0bff3c-252f-4fe6-afcd-5d8a6a92839a</td>\n",
       "    </tr>\n",
       "  </tbody>\n",
       "</table>\n",
       "</div>"
      ],
      "text/plain": [
       "                 event_time        event_type  product_id  \\\n",
       "0   2019-11-01 00:00:02 UTC              view     5802432   \n",
       "1   2019-11-01 00:00:09 UTC              cart     5844397   \n",
       "2   2019-11-01 00:00:10 UTC              view     5837166   \n",
       "3   2019-11-01 00:00:11 UTC              cart     5876812   \n",
       "4   2019-11-01 00:00:24 UTC  remove_from_cart     5826182   \n",
       "6   2019-11-01 00:00:25 UTC              view     5856189   \n",
       "7   2019-11-01 00:00:32 UTC              view     5837835   \n",
       "8   2019-11-01 00:00:34 UTC  remove_from_cart     5870838   \n",
       "9   2019-11-01 00:00:37 UTC              view     5870803   \n",
       "10  2019-11-01 00:00:42 UTC  remove_from_cart     5870803   \n",
       "\n",
       "            category_id category_code     brand  price    user_id  \\\n",
       "0   1487580009286598681           NaN       NaN   0.32  562076640   \n",
       "1   1487580006317032337           NaN       NaN   2.38  553329724   \n",
       "2   1783999064103190764           NaN       pnb  22.22  556138645   \n",
       "3   1487580010100293687           NaN  jessnail   3.16  564506666   \n",
       "4   1487580007483048900           NaN       NaN   3.33  553329724   \n",
       "6   1487580009026551821           NaN    runail  15.71  562076640   \n",
       "7   1933472286753424063           NaN       NaN   3.49  514649199   \n",
       "8   1487580007675986893           NaN      milv   0.79  429913900   \n",
       "9   1487580007675986893           NaN      milv   0.79  429913900   \n",
       "10  1487580007675986893           NaN      milv   0.79  429913900   \n",
       "\n",
       "                            user_session  \n",
       "0   09fafd6c-6c99-46b1-834f-33527f4de241  \n",
       "1   2067216c-31b5-455d-a1cc-af0575a34ffb  \n",
       "2   57ed222e-a54a-4907-9944-5a875c2d7f4f  \n",
       "3   186c1951-8052-4b37-adce-dd9644b1d5f7  \n",
       "4   2067216c-31b5-455d-a1cc-af0575a34ffb  \n",
       "6   09fafd6c-6c99-46b1-834f-33527f4de241  \n",
       "7   432a4e95-375c-4b40-bd36-0fc039e77580  \n",
       "8   2f0bff3c-252f-4fe6-afcd-5d8a6a92839a  \n",
       "9   2f0bff3c-252f-4fe6-afcd-5d8a6a92839a  \n",
       "10  2f0bff3c-252f-4fe6-afcd-5d8a6a92839a  "
      ]
     },
     "execution_count": 21,
     "metadata": {},
     "output_type": "execute_result"
    }
   ],
   "source": [
    "df_price_iqr.head(10)"
   ]
  },
  {
   "cell_type": "markdown",
   "metadata": {},
   "source": [
    "#### Over 200,000 rows removed that aren't in the IQR range. It is expected that product items will have higher and lower ranges. We should keep this data"
   ]
  },
  {
   "cell_type": "markdown",
   "metadata": {},
   "source": [
    "### Histogram of product IDs"
   ]
  },
  {
   "cell_type": "code",
   "execution_count": 22,
   "metadata": {},
   "outputs": [
    {
     "data": {
      "text/plain": [
       "Text(0, 0.5, 'Qty Sold')"
      ]
     },
     "execution_count": 22,
     "metadata": {},
     "output_type": "execute_result"
    },
    {
     "data": {
      "image/png": "[encoded data removed]",
      "text/plain": [
       "<Figure size 720x360 with 1 Axes>"
      ]
     },
     "metadata": {},
     "output_type": "display_data"
    }
   ],
   "source": [
    "df.product_id.value_counts().nlargest(30).plot(kind='bar', figsize=(10,5))\n",
    "plt.title('Number of products sold by id')\n",
    "plt.xlabel('Product Id')\n",
    "plt.ylabel('Qty Sold')"
   ]
  },
  {
   "cell_type": "code",
   "execution_count": 23,
   "metadata": {},
   "outputs": [
    {
     "data": {
      "text/html": [
       "<div>\n",
       "<style scoped>\n",
       "    .dataframe tbody tr th:only-of-type {\n",
       "        vertical-align: middle;\n",
       "    }\n",
       "\n",
       "    .dataframe tbody tr th {\n",
       "        vertical-align: top;\n",
       "    }\n",
       "\n",
       "    .dataframe thead th {\n",
       "        text-align: right;\n",
       "    }\n",
       "</style>\n",
       "<table border=\"1\" class=\"dataframe\">\n",
       "  <thead>\n",
       "    <tr style=\"text-align: right;\">\n",
       "      <th></th>\n",
       "      <th>event_time</th>\n",
       "      <th>event_type</th>\n",
       "      <th>product_id</th>\n",
       "      <th>category_id</th>\n",
       "      <th>category_code</th>\n",
       "      <th>brand</th>\n",
       "      <th>price</th>\n",
       "      <th>user_id</th>\n",
       "      <th>user_session</th>\n",
       "    </tr>\n",
       "  </thead>\n",
       "  <tbody>\n",
       "    <tr>\n",
       "      <th>122</th>\n",
       "      <td>2019-11-01 00:09:44 UTC</td>\n",
       "      <td>view</td>\n",
       "      <td>5809910</td>\n",
       "      <td>1602943681873052386</td>\n",
       "      <td>NaN</td>\n",
       "      <td>grattol</td>\n",
       "      <td>5.24</td>\n",
       "      <td>249305749</td>\n",
       "      <td>e707213f-7920-49e5-9386-55e3a516e069</td>\n",
       "    </tr>\n",
       "    <tr>\n",
       "      <th>127</th>\n",
       "      <td>2019-11-01 00:10:12 UTC</td>\n",
       "      <td>cart</td>\n",
       "      <td>5809910</td>\n",
       "      <td>1602943681873052386</td>\n",
       "      <td>NaN</td>\n",
       "      <td>grattol</td>\n",
       "      <td>5.24</td>\n",
       "      <td>249305749</td>\n",
       "      <td>e707213f-7920-49e5-9386-55e3a516e069</td>\n",
       "    </tr>\n",
       "    <tr>\n",
       "      <th>414</th>\n",
       "      <td>2019-11-01 00:31:47 UTC</td>\n",
       "      <td>purchase</td>\n",
       "      <td>5809910</td>\n",
       "      <td>1602943681873052386</td>\n",
       "      <td>NaN</td>\n",
       "      <td>grattol</td>\n",
       "      <td>5.24</td>\n",
       "      <td>249305749</td>\n",
       "      <td>e707213f-7920-49e5-9386-55e3a516e069</td>\n",
       "    </tr>\n",
       "    <tr>\n",
       "      <th>794</th>\n",
       "      <td>2019-11-01 00:54:05 UTC</td>\n",
       "      <td>cart</td>\n",
       "      <td>5809910</td>\n",
       "      <td>1602943681873052386</td>\n",
       "      <td>NaN</td>\n",
       "      <td>grattol</td>\n",
       "      <td>5.24</td>\n",
       "      <td>541607447</td>\n",
       "      <td>b5312b6e-f75a-49e3-bd59-0d9a8b3d7482</td>\n",
       "    </tr>\n",
       "    <tr>\n",
       "      <th>1676</th>\n",
       "      <td>2019-11-01 01:47:39 UTC</td>\n",
       "      <td>view</td>\n",
       "      <td>5809910</td>\n",
       "      <td>1602943681873052386</td>\n",
       "      <td>NaN</td>\n",
       "      <td>grattol</td>\n",
       "      <td>5.24</td>\n",
       "      <td>455571231</td>\n",
       "      <td>9b2feeb4-805c-4d2b-aac1-57d9f3bd6f4d</td>\n",
       "    </tr>\n",
       "  </tbody>\n",
       "</table>\n",
       "</div>"
      ],
      "text/plain": [
       "                   event_time event_type  product_id          category_id  \\\n",
       "122   2019-11-01 00:09:44 UTC       view     5809910  1602943681873052386   \n",
       "127   2019-11-01 00:10:12 UTC       cart     5809910  1602943681873052386   \n",
       "414   2019-11-01 00:31:47 UTC   purchase     5809910  1602943681873052386   \n",
       "794   2019-11-01 00:54:05 UTC       cart     5809910  1602943681873052386   \n",
       "1676  2019-11-01 01:47:39 UTC       view     5809910  1602943681873052386   \n",
       "\n",
       "     category_code    brand  price    user_id  \\\n",
       "122            NaN  grattol   5.24  249305749   \n",
       "127            NaN  grattol   5.24  249305749   \n",
       "414            NaN  grattol   5.24  249305749   \n",
       "794            NaN  grattol   5.24  541607447   \n",
       "1676           NaN  grattol   5.24  455571231   \n",
       "\n",
       "                              user_session  \n",
       "122   e707213f-7920-49e5-9386-55e3a516e069  \n",
       "127   e707213f-7920-49e5-9386-55e3a516e069  \n",
       "414   e707213f-7920-49e5-9386-55e3a516e069  \n",
       "794   b5312b6e-f75a-49e3-bd59-0d9a8b3d7482  \n",
       "1676  9b2feeb4-805c-4d2b-aac1-57d9f3bd6f4d  "
      ]
     },
     "execution_count": 23,
     "metadata": {},
     "output_type": "execute_result"
    }
   ],
   "source": [
    "df.query('product_id == 5809910').head()"
   ]
  },
  {
   "cell_type": "markdown",
   "metadata": {},
   "source": [
    "### Histogram of brand: most sold brands - caveat: has a lot of null values"
   ]
  },
  {
   "cell_type": "code",
   "execution_count": 24,
   "metadata": {},
   "outputs": [
    {
     "data": {
      "text/plain": [
       "Text(0, 0.5, 'Qty Sold')"
      ]
     },
     "execution_count": 24,
     "metadata": {},
     "output_type": "execute_result"
    },
    {
     "data": {
      "image/png": "[encoded data removed]",
      "text/plain": [
       "<Figure size 720x360 with 1 Axes>"
      ]
     },
     "metadata": {},
     "output_type": "display_data"
    }
   ],
   "source": [
    "df.brand.value_counts().nlargest(30).plot(kind='bar', figsize=(10, 5))\n",
    "plt.title('Number of products sold by brand')\n",
    "plt.xlabel('Brand')\n",
    "plt.ylabel('Qty Sold')"
   ]
  },
  {
   "cell_type": "code",
   "execution_count": 25,
   "metadata": {},
   "outputs": [
    {
     "data": {
      "text/html": [
       "<div>\n",
       "<style scoped>\n",
       "    .dataframe tbody tr th:only-of-type {\n",
       "        vertical-align: middle;\n",
       "    }\n",
       "\n",
       "    .dataframe tbody tr th {\n",
       "        vertical-align: top;\n",
       "    }\n",
       "\n",
       "    .dataframe thead th {\n",
       "        text-align: right;\n",
       "    }\n",
       "</style>\n",
       "<table border=\"1\" class=\"dataframe\">\n",
       "  <thead>\n",
       "    <tr style=\"text-align: right;\">\n",
       "      <th></th>\n",
       "      <th>event_time</th>\n",
       "      <th>event_type</th>\n",
       "      <th>product_id</th>\n",
       "      <th>category_id</th>\n",
       "      <th>category_code</th>\n",
       "      <th>brand</th>\n",
       "      <th>price</th>\n",
       "      <th>user_id</th>\n",
       "      <th>user_session</th>\n",
       "    </tr>\n",
       "  </thead>\n",
       "  <tbody>\n",
       "    <tr>\n",
       "      <th>6</th>\n",
       "      <td>2019-11-01 00:00:25 UTC</td>\n",
       "      <td>view</td>\n",
       "      <td>5856189</td>\n",
       "      <td>1487580009026551821</td>\n",
       "      <td>NaN</td>\n",
       "      <td>runail</td>\n",
       "      <td>15.71</td>\n",
       "      <td>562076640</td>\n",
       "      <td>09fafd6c-6c99-46b1-834f-33527f4de241</td>\n",
       "    </tr>\n",
       "    <tr>\n",
       "      <th>12</th>\n",
       "      <td>2019-11-01 00:00:50 UTC</td>\n",
       "      <td>view</td>\n",
       "      <td>5856190</td>\n",
       "      <td>1487580009026551821</td>\n",
       "      <td>NaN</td>\n",
       "      <td>runail</td>\n",
       "      <td>15.71</td>\n",
       "      <td>562076640</td>\n",
       "      <td>09fafd6c-6c99-46b1-834f-33527f4de241</td>\n",
       "    </tr>\n",
       "    <tr>\n",
       "      <th>15</th>\n",
       "      <td>2019-11-01 00:00:57 UTC</td>\n",
       "      <td>view</td>\n",
       "      <td>5674484</td>\n",
       "      <td>1487580009026551821</td>\n",
       "      <td>NaN</td>\n",
       "      <td>runail</td>\n",
       "      <td>15.71</td>\n",
       "      <td>562076640</td>\n",
       "      <td>09fafd6c-6c99-46b1-834f-33527f4de241</td>\n",
       "    </tr>\n",
       "    <tr>\n",
       "      <th>18</th>\n",
       "      <td>2019-11-01 00:01:09 UTC</td>\n",
       "      <td>cart</td>\n",
       "      <td>4607</td>\n",
       "      <td>1487580010796548183</td>\n",
       "      <td>NaN</td>\n",
       "      <td>runail</td>\n",
       "      <td>0.38</td>\n",
       "      <td>553329724</td>\n",
       "      <td>2067216c-31b5-455d-a1cc-af0575a34ffb</td>\n",
       "    </tr>\n",
       "    <tr>\n",
       "      <th>20</th>\n",
       "      <td>2019-11-01 00:01:11 UTC</td>\n",
       "      <td>cart</td>\n",
       "      <td>4600</td>\n",
       "      <td>1487580010796548183</td>\n",
       "      <td>NaN</td>\n",
       "      <td>runail</td>\n",
       "      <td>0.38</td>\n",
       "      <td>553329724</td>\n",
       "      <td>2067216c-31b5-455d-a1cc-af0575a34ffb</td>\n",
       "    </tr>\n",
       "  </tbody>\n",
       "</table>\n",
       "</div>"
      ],
      "text/plain": [
       "                 event_time event_type  product_id          category_id  \\\n",
       "6   2019-11-01 00:00:25 UTC       view     5856189  1487580009026551821   \n",
       "12  2019-11-01 00:00:50 UTC       view     5856190  1487580009026551821   \n",
       "15  2019-11-01 00:00:57 UTC       view     5674484  1487580009026551821   \n",
       "18  2019-11-01 00:01:09 UTC       cart        4607  1487580010796548183   \n",
       "20  2019-11-01 00:01:11 UTC       cart        4600  1487580010796548183   \n",
       "\n",
       "   category_code   brand  price    user_id  \\\n",
       "6            NaN  runail  15.71  562076640   \n",
       "12           NaN  runail  15.71  562076640   \n",
       "15           NaN  runail  15.71  562076640   \n",
       "18           NaN  runail   0.38  553329724   \n",
       "20           NaN  runail   0.38  553329724   \n",
       "\n",
       "                            user_session  \n",
       "6   09fafd6c-6c99-46b1-834f-33527f4de241  \n",
       "12  09fafd6c-6c99-46b1-834f-33527f4de241  \n",
       "15  09fafd6c-6c99-46b1-834f-33527f4de241  \n",
       "18  2067216c-31b5-455d-a1cc-af0575a34ffb  \n",
       "20  2067216c-31b5-455d-a1cc-af0575a34ffb  "
      ]
     },
     "execution_count": 25,
     "metadata": {},
     "output_type": "execute_result"
    }
   ],
   "source": [
    "df.query('brand == \"runail\"').head()"
   ]
  },
  {
   "cell_type": "markdown",
   "metadata": {},
   "source": [
    "#### What are the prices of the best selling brands?"
   ]
  },
  {
   "cell_type": "code",
   "execution_count": 26,
   "metadata": {},
   "outputs": [
    {
     "data": {
      "text/plain": [
       "Text(0, 0.5, 'Qty sold')"
      ]
     },
     "execution_count": 26,
     "metadata": {},
     "output_type": "execute_result"
    },
    {
     "data": {
      "image/png": "[encoded data removed]",
      "text/plain": [
       "<Figure size 720x360 with 1 Axes>"
      ]
     },
     "metadata": {},
     "output_type": "display_data"
    }
   ],
   "source": [
    "df.query('brand == \"runail\"').price.value_counts().nlargest(30).plot(kind='bar', figsize=(10, 5))\n",
    "plt.title('Runail price distribution')\n",
    "plt.xlabel('Price')\n",
    "plt.ylabel('Qty sold')"
   ]
  },
  {
   "cell_type": "code",
   "execution_count": 27,
   "metadata": {},
   "outputs": [
    {
     "data": {
      "text/plain": [
       "Text(0, 0.5, 'Qty sold')"
      ]
     },
     "execution_count": 27,
     "metadata": {},
     "output_type": "execute_result"
    },
    {
     "data": {
      "image/png": "[encoded data removed]",
      "text/plain": [
       "<Figure size 720x360 with 1 Axes>"
      ]
     },
     "metadata": {},
     "output_type": "display_data"
    }
   ],
   "source": [
    "df.query('brand == \"grattol\"').price.value_counts().nlargest(30).plot(kind='bar', figsize=(10, 5))\n",
    "plt.title('Runail price distribution')\n",
    "plt.xlabel('Price')\n",
    "plt.ylabel('Qty sold')"
   ]
  },
  {
   "cell_type": "markdown",
   "metadata": {},
   "source": [
    "### Price aggregations"
   ]
  },
  {
   "cell_type": "code",
   "execution_count": 28,
   "metadata": {},
   "outputs": [
    {
     "name": "stdout",
     "output_type": "stream",
     "text": [
      "most costly item sold costs 327.78, cheapeast cost 0.0, average price is 8.308922432255583\n"
     ]
    }
   ],
   "source": [
    "# Ignore the rows where prices are negative\n",
    "max_cost = df.price.max()\n",
    "min_cost = df.price.min()\n",
    "mean_cost = df.price.mean()\n",
    "print(f'most costly item sold costs {max_cost}, cheapeast cost {min_cost}, average price is {mean_cost}')"
   ]
  },
  {
   "cell_type": "markdown",
   "metadata": {},
   "source": [
    "#### Average price by brand and product category"
   ]
  },
  {
   "cell_type": "code",
   "execution_count": 45,
   "metadata": {},
   "outputs": [
    {
     "data": {
      "text/plain": [
       "brand\n",
       "strong       197.288190\n",
       "sanoto       138.424167\n",
       "marathon     130.993905\n",
       "dorena       108.863109\n",
       "s.care        94.903914\n",
       "                ...    \n",
       "dermal         1.242728\n",
       "bpw.style      1.150795\n",
       "cosima         1.104545\n",
       "supertan       0.940429\n",
       "soleo          0.811444\n",
       "Name: price, Length: 239, dtype: float64"
      ]
     },
     "execution_count": 45,
     "metadata": {},
     "output_type": "execute_result"
    }
   ],
   "source": [
    "df.groupby('brand')['price'].mean().sort_values(ascending=False)"
   ]
  },
  {
   "cell_type": "code",
   "execution_count": 46,
   "metadata": {},
   "outputs": [
    {
     "data": {
      "text/plain": [
       "category_id\n",
       "2193074740619379535    167.624826\n",
       "2187686850687140020    138.424167\n",
       "2022622168218599898    127.618187\n",
       "1487580006300255120    104.130579\n",
       "1487580006585467807     92.793000\n",
       "                          ...    \n",
       "1487580010846879833      0.371202\n",
       "1487580011115315300      0.360000\n",
       "1487580011199201384      0.320000\n",
       "1487580011140481125      0.320000\n",
       "2166295400451933025      0.000000\n",
       "Name: price, Length: 491, dtype: float64"
      ]
     },
     "execution_count": 46,
     "metadata": {},
     "output_type": "execute_result"
    }
   ],
   "source": [
    "df.groupby('category_id')['price'].mean().sort_values(ascending=False) "
   ]
  },
  {
   "cell_type": "code",
   "execution_count": null,
   "metadata": {},
   "outputs": [],
   "source": []
  }
 ],
 "metadata": {
  "kernelspec": {
   "display_name": "Python 3",
   "language": "python",
   "name": "python3"
  },
  "language_info": {
   "codemirror_mode": {
    "name": "ipython",
    "version": 3
   },
   "file_extension": ".py",
   "mimetype": "text/x-python",
   "name": "python",
   "nbconvert_exporter": "python",
   "pygments_lexer": "ipython3",
   "version": "3.8.3"
  }
 },
 "nbformat": 4,
 "nbformat_minor": 4
}
